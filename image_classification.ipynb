{
 "cells": [
  {
   "cell_type": "markdown",
   "metadata": {
    "collapsed": true
   },
   "source": [
    "# Image Classification\n",
    "In this project, you'll classify images from the [CIFAR-10 dataset](https://www.cs.toronto.edu/~kriz/cifar.html).  The dataset consists of airplanes, dogs, cats, and other objects. You'll preprocess the images, then train a convolutional neural network on all the samples. The images need to be normalized and the labels need to be one-hot encoded.  You'll get to apply what you learned and build a convolutional, max pooling, dropout, and fully connected layers.  At the end, you'll get to see your neural network's predictions on the sample images.\n",
    "## Get the Data\n",
    "Run the following cell to download the [CIFAR-10 dataset for python](https://www.cs.toronto.edu/~kriz/cifar-10-python.tar.gz)."
   ]
  },
  {
   "cell_type": "code",
   "execution_count": 1,
   "metadata": {},
   "outputs": [
    {
     "name": "stdout",
     "output_type": "stream",
     "text": [
      "All files found!\n"
     ]
    }
   ],
   "source": [
    "\"\"\"\n",
    "DON'T MODIFY ANYTHING IN THIS CELL THAT IS BELOW THIS LINE\n",
    "\"\"\"\n",
    "from urllib.request import urlretrieve\n",
    "from os.path import isfile, isdir\n",
    "from tqdm import tqdm\n",
    "import problem_unittests as tests\n",
    "import tarfile\n",
    "\n",
    "cifar10_dataset_folder_path = 'cifar-10-batches-py'\n",
    "\n",
    "class DLProgress(tqdm):\n",
    "    last_block = 0\n",
    "\n",
    "    def hook(self, block_num=1, block_size=1, total_size=None):\n",
    "        self.total = total_size\n",
    "        self.update((block_num - self.last_block) * block_size)\n",
    "        self.last_block = block_num\n",
    "\n",
    "if not isfile('cifar-10-python.tar.gz'):\n",
    "    with DLProgress(unit='B', unit_scale=True, miniters=1, desc='CIFAR-10 Dataset') as pbar:\n",
    "        urlretrieve(\n",
    "            'https://www.cs.toronto.edu/~kriz/cifar-10-python.tar.gz',\n",
    "            'cifar-10-python.tar.gz',\n",
    "            pbar.hook)\n",
    "\n",
    "if not isdir(cifar10_dataset_folder_path):\n",
    "    with tarfile.open('cifar-10-python.tar.gz') as tar:\n",
    "        tar.extractall()\n",
    "        tar.close()\n",
    "\n",
    "\n",
    "tests.test_folder_path(cifar10_dataset_folder_path)"
   ]
  },
  {
   "cell_type": "markdown",
   "metadata": {},
   "source": [
    "## Explore the Data\n",
    "The dataset is broken into batches to prevent your machine from running out of memory.  The CIFAR-10 dataset consists of 5 batches, named `data_batch_1`, `data_batch_2`, etc.. Each batch contains the labels and images that are one of the following:\n",
    "* airplane\n",
    "* automobile\n",
    "* bird\n",
    "* cat\n",
    "* deer\n",
    "* dog\n",
    "* frog\n",
    "* horse\n",
    "* ship\n",
    "* truck\n",
    "\n",
    "Understanding a dataset is part of making predictions on the data.  Play around with the code cell below by changing the `batch_id` and `sample_id`. The `batch_id` is the id for a batch (1-5). The `sample_id` is the id for a image and label pair in the batch.\n",
    "\n",
    "Ask yourself \"What are all possible labels?\", \"What is the range of values for the image data?\", \"Are the labels in order or random?\".  Answers to questions like these will help you preprocess the data and end up with better predictions."
   ]
  },
  {
   "cell_type": "code",
   "execution_count": 2,
   "metadata": {},
   "outputs": [
    {
     "name": "stdout",
     "output_type": "stream",
     "text": [
      "\n",
      "Stats of batch 5:\n",
      "Samples: 10000\n",
      "Label Counts: {0: 1014, 1: 1014, 2: 952, 3: 1016, 4: 997, 5: 1025, 6: 980, 7: 977, 8: 1003, 9: 1022}\n",
      "First 20 Labels: [1, 8, 5, 1, 5, 7, 4, 3, 8, 2, 7, 2, 0, 1, 5, 9, 6, 2, 0, 8]\n",
      "\n",
      "Example of Image 1:\n",
      "Image - Min Value: 1 Max Value: 244\n",
      "Image - Shape: (32, 32, 3)\n",
      "Label - Label Id: 8 Name: ship\n"
     ]
    },
    {
     "data": {
      "image/png": "[encoded data removed]",
      "text/plain": [
       "<matplotlib.figure.Figure at 0x2b79a1bb5278>"
      ]
     },
     "metadata": {
      "image/png": {
       "height": 250,
       "width": 253
      }
     },
     "output_type": "display_data"
    }
   ],
   "source": [
    "%matplotlib inline\n",
    "%config InlineBackend.figure_format = 'retina'\n",
    "\n",
    "import helper\n",
    "import numpy as np\n",
    "\n",
    "# Explore the dataset\n",
    "batch_id = 5\n",
    "sample_id = 1\n",
    "helper.display_stats(cifar10_dataset_folder_path, batch_id, sample_id)"
   ]
  },
  {
   "cell_type": "markdown",
   "metadata": {},
   "source": [
    "## Implement Preprocess Functions\n",
    "### Normalize\n",
    "In the cell below, implement the `normalize` function to take in image data, `x`, and return it as a normalized Numpy array. The values should be in the range of 0 to 1, inclusive.  The return object should be the same shape as `x`."
   ]
  },
  {
   "cell_type": "code",
   "execution_count": 3,
   "metadata": {},
   "outputs": [
    {
     "name": "stdout",
     "output_type": "stream",
     "text": [
      "Tests Passed\n"
     ]
    }
   ],
   "source": [
    "def normalize(x):\n",
    "    \"\"\"\n",
    "    Normalize a list of sample image data in the range of 0 to 1\n",
    "    : x: List of image data.  The image shape is (32, 32, 3)\n",
    "    : return: Numpy array of normalize data\n",
    "    \"\"\"\n",
    "    # TODO: Implement Function    \n",
    "    normalized_data = []\n",
    "    for image in x:\n",
    "        normalized_data.append(np.divide(255 - image, 255.0))\n",
    "    \n",
    "    return np.array(normalized_data)\n",
    "\n",
    "\"\"\"\n",
    "DON'T MODIFY ANYTHING IN THIS CELL THAT IS BELOW THIS LINE\n",
    "\"\"\"\n",
    "tests.test_normalize(normalize)"
   ]
  },
  {
   "cell_type": "markdown",
   "metadata": {},
   "source": [
    "### One-hot encode\n",
    "Just like the previous code cell, you'll be implementing a function for preprocessing.  This time, you'll implement the `one_hot_encode` function. The input, `x`, are a list of labels.  Implement the function to return the list of labels as One-Hot encoded Numpy array.  The possible values for labels are 0 to 9. The one-hot encoding function should return the same encoding for each value between each call to `one_hot_encode`.  Make sure to save the map of encodings outside the function.\n",
    "\n",
    "**Hint:**\n",
    "\n",
    "Look into LabelBinarizer in the preprocessing module of sklearn."
   ]
  },
  {
   "cell_type": "code",
   "execution_count": 4,
   "metadata": {},
   "outputs": [
    {
     "name": "stdout",
     "output_type": "stream",
     "text": [
      "Tests Passed\n"
     ]
    }
   ],
   "source": [
    "from sklearn import preprocessing\n",
    "\n",
    "lb = preprocessing.LabelBinarizer()\n",
    "lb.fit([0,1,2,3,4,5,6,7,8,9])\n",
    "\n",
    "def one_hot_encode(x):\n",
    "    \"\"\"\n",
    "    One hot encode a list of sample labels. Return a one-hot encoded vector for each label.\n",
    "    : x: List of sample Labels\n",
    "    : return: Numpy array of one-hot encoded labels\n",
    "    \"\"\"\n",
    "    # TODO: Implement Function\n",
    "    x_new = lb.transform(x)\n",
    "    return x_new\n",
    "\n",
    "\n",
    "\"\"\"\n",
    "DON'T MODIFY ANYTHING IN THIS CELL THAT IS BELOW THIS LINE\n",
    "\"\"\"\n",
    "tests.test_one_hot_encode(one_hot_encode)"
   ]
  },
  {
   "cell_type": "markdown",
   "metadata": {},
   "source": [
    "### Randomize Data\n",
    "As you saw from exploring the data above, the order of the samples are randomized.  It doesn't hurt to randomize it again, but you don't need to for this dataset."
   ]
  },
  {
   "cell_type": "markdown",
   "metadata": {},
   "source": [
    "## Preprocess all the data and save it\n",
    "Running the code cell below will preprocess all the CIFAR-10 data and save it to file. The code below also uses 10% of the training data for validation."
   ]
  },
  {
   "cell_type": "code",
   "execution_count": 5,
   "metadata": {},
   "outputs": [],
   "source": [
    "\"\"\"\n",
    "DON'T MODIFY ANYTHING IN THIS CELL\n",
    "\"\"\"\n",
    "# Preprocess Training, Validation, and Testing Data\n",
    "helper.preprocess_and_save_data(cifar10_dataset_folder_path, normalize, one_hot_encode)"
   ]
  },
  {
   "cell_type": "markdown",
   "metadata": {},
   "source": [
    "# Check Point\n",
    "This is your first checkpoint.  If you ever decide to come back to this notebook or have to restart the notebook, you can start from here.  The preprocessed data has been saved to disk."
   ]
  },
  {
   "cell_type": "code",
   "execution_count": 6,
   "metadata": {
    "collapsed": true
   },
   "outputs": [],
   "source": [
    "\"\"\"\n",
    "DON'T MODIFY ANYTHING IN THIS CELL\n",
    "\"\"\"\n",
    "import pickle\n",
    "import problem_unittests as tests\n",
    "import helper\n",
    "\n",
    "# Load the Preprocessed Validation data\n",
    "valid_features, valid_labels = pickle.load(open('preprocess_validation.p', mode='rb'))"
   ]
  },
  {
   "cell_type": "markdown",
   "metadata": {},
   "source": [
    "## Build the network\n",
    "For the neural network, you'll build each layer into a function.  Most of the code you've seen has been outside of functions. To test your code more thoroughly, we require that you put each layer in a function.  This allows us to give you better feedback and test for simple mistakes using our unittests before you submit your project.\n",
    "\n",
    ">**Note:** If you're finding it hard to dedicate enough time for this course each week, we've provided a small shortcut to this part of the project. In the next couple of problems, you'll have the option to use classes from the [TensorFlow Layers](https://www.tensorflow.org/api_docs/python/tf/layers) or [TensorFlow Layers (contrib)](https://www.tensorflow.org/api_guides/python/contrib.layers) packages to build each layer, except the layers you build in the \"Convolutional and Max Pooling Layer\" section.  TF Layers is similar to Keras's and TFLearn's abstraction to layers, so it's easy to pickup.\n",
    "\n",
    ">However, if you would like to get the most out of this course, try to solve all the problems _without_ using anything from the TF Layers packages. You **can** still use classes from other packages that happen to have the same name as ones you find in TF Layers! For example, instead of using the TF Layers version of the `conv2d` class, [tf.layers.conv2d](https://www.tensorflow.org/api_docs/python/tf/layers/conv2d), you would want to use the TF Neural Network version of `conv2d`, [tf.nn.conv2d](https://www.tensorflow.org/api_docs/python/tf/nn/conv2d). \n",
    "\n",
    "Let's begin!\n",
    "\n",
    "### Input\n",
    "The neural network needs to read the image data, one-hot encoded labels, and dropout keep probability. Implement the following functions\n",
    "* Implement `neural_net_image_input`\n",
    " * Return a [TF Placeholder](https://www.tensorflow.org/api_docs/python/tf/placeholder)\n",
    " * Set the shape using `image_shape` with batch size set to `None`.\n",
    " * Name the TensorFlow placeholder \"x\" using the TensorFlow `name` parameter in the [TF Placeholder](https://www.tensorflow.org/api_docs/python/tf/placeholder).\n",
    "* Implement `neural_net_label_input`\n",
    " * Return a [TF Placeholder](https://www.tensorflow.org/api_docs/python/tf/placeholder)\n",
    " * Set the shape using `n_classes` with batch size set to `None`.\n",
    " * Name the TensorFlow placeholder \"y\" using the TensorFlow `name` parameter in the [TF Placeholder](https://www.tensorflow.org/api_docs/python/tf/placeholder).\n",
    "* Implement `neural_net_keep_prob_input`\n",
    " * Return a [TF Placeholder](https://www.tensorflow.org/api_docs/python/tf/placeholder) for dropout keep probability.\n",
    " * Name the TensorFlow placeholder \"keep_prob\" using the TensorFlow `name` parameter in the [TF Placeholder](https://www.tensorflow.org/api_docs/python/tf/placeholder).\n",
    "\n",
    "These names will be used at the end of the project to load your saved model.\n",
    "\n",
    "Note: `None` for shapes in TensorFlow allow for a dynamic size."
   ]
  },
  {
   "cell_type": "code",
   "execution_count": 7,
   "metadata": {},
   "outputs": [
    {
     "name": "stdout",
     "output_type": "stream",
     "text": [
      "Image Input Tests Passed.\n",
      "Label Input Tests Passed.\n",
      "Keep Prob Tests Passed.\n"
     ]
    }
   ],
   "source": [
    "import tensorflow as tf\n",
    "\n",
    "def neural_net_image_input(image_shape):\n",
    "    \"\"\"\n",
    "    Return a Tensor for a batch of image input\n",
    "    : image_shape: Shape of the images\n",
    "    : return: Tensor for image input.\n",
    "    \"\"\"\n",
    "    total_shape = tuple([None])+image_shape\n",
    "    # TODO: Implement Function\n",
    "    return tf.placeholder(tf.float32, shape=total_shape, name='x')\n",
    "\n",
    "\n",
    "def neural_net_label_input(n_classes):\n",
    "    \"\"\"\n",
    "    Return a Tensor for a batch of label input\n",
    "    : n_classes: Number of classes\n",
    "    : return: Tensor for label input.\n",
    "    \"\"\"\n",
    "    # TODO: Implement Function\n",
    "    total_shape = (None,n_classes)\n",
    "    return tf.placeholder(tf.float32, shape=total_shape, name='y')\n",
    "\n",
    "\n",
    "def neural_net_keep_prob_input():\n",
    "    \"\"\"\n",
    "    Return a Tensor for keep probability\n",
    "    : return: Tensor for keep probability.\n",
    "    \"\"\"\n",
    "    # TODO: Implement Function\n",
    "    return tf.placeholder(tf.float32, name='keep_prob')\n",
    "\n",
    "\n",
    "\"\"\"\n",
    "DON'T MODIFY ANYTHING IN THIS CELL THAT IS BELOW THIS LINE\n",
    "\"\"\"\n",
    "tf.reset_default_graph()\n",
    "tests.test_nn_image_inputs(neural_net_image_input)\n",
    "tests.test_nn_label_inputs(neural_net_label_input)\n",
    "tests.test_nn_keep_prob_inputs(neural_net_keep_prob_input)"
   ]
  },
  {
   "cell_type": "markdown",
   "metadata": {},
   "source": [
    "### Convolution and Max Pooling Layer\n",
    "Convolution layers have a lot of success with images. For this code cell, you should implement the function `conv2d_maxpool` to apply convolution then max pooling:\n",
    "* Create the weight and bias using `conv_ksize`, `conv_num_outputs` and the shape of `x_tensor`.\n",
    "* Apply a convolution to `x_tensor` using weight and `conv_strides`.\n",
    " * We recommend you use same padding, but you're welcome to use any padding.\n",
    "* Add bias\n",
    "* Add a nonlinear activation to the convolution.\n",
    "* Apply Max Pooling using `pool_ksize` and `pool_strides`.\n",
    " * We recommend you use same padding, but you're welcome to use any padding.\n",
    "\n",
    "**Note:** You **can't** use [TensorFlow Layers](https://www.tensorflow.org/api_docs/python/tf/layers) or [TensorFlow Layers (contrib)](https://www.tensorflow.org/api_guides/python/contrib.layers) for **this** layer, but you can still use TensorFlow's [Neural Network](https://www.tensorflow.org/api_docs/python/tf/nn) package. You may still use the shortcut option for all the **other** layers.\n",
    "\n",
    "** Hint: **\n",
    "\n",
    "When unpacking values as an argument in Python, look into the [unpacking](https://docs.python.org/3/tutorial/controlflow.html#unpacking-argument-lists) operator. "
   ]
  },
  {
   "cell_type": "code",
   "execution_count": 8,
   "metadata": {},
   "outputs": [
    {
     "name": "stdout",
     "output_type": "stream",
     "text": [
      "Tests Passed\n"
     ]
    }
   ],
   "source": [
    "def conv2d_maxpool(x_tensor, conv_num_outputs, conv_ksize, conv_strides, pool_ksize, pool_strides):\n",
    "    \"\"\"\n",
    "    Apply convolution then max pooling to x_tensor\n",
    "    :param x_tensor: TensorFlow Tensor\n",
    "    :param conv_num_outputs: Number of outputs for the convolutional layer\n",
    "    :param conv_ksize: kernal size 2-D Tuple for the convolutional layer\n",
    "    :param conv_strides: Stride 2-D Tuple for convolution\n",
    "    :param pool_ksize: kernal size 2-D Tuple for pool\n",
    "    :param pool_strides: Stride 2-D Tuple for pool\n",
    "    : return: A tensor that represents convolution and max pooling of x_tensor\n",
    "    \"\"\"\n",
    "    # TODO: Implement Function\n",
    "    #weight shape=filter size height x filter size width x color channels x k output\n",
    "    weights = tf.Variable(tf.truncated_normal([conv_ksize[0],conv_ksize[1],x_tensor.get_shape().as_list()[3],conv_num_outputs],mean=0.0,stddev=0.1))\n",
    "    biases = tf.Variable(tf.zeros([conv_num_outputs]))\n",
    "    \n",
    "    #stride dimension= batch x input_height x input_width x input_channels\n",
    "    conv_layer = tf.nn.conv2d(x_tensor, weights, [1, conv_strides[0], conv_strides[1],1],padding='SAME')\n",
    "    \n",
    "    #add bias\n",
    "    conv_layer = tf.nn.bias_add(conv_layer, biases)\n",
    "    \n",
    "    #apply activation function\n",
    "    conv_layer = tf.nn.relu(conv_layer)\n",
    "    \n",
    "    max_pool = tf.nn.max_pool(conv_layer, ksize=[1, pool_ksize[0], pool_ksize[1], 1], strides=[1, pool_strides[0], pool_strides[1], 1], padding='SAME')\n",
    "    \n",
    "    return max_pool\n",
    "\n",
    "\n",
    "\"\"\"\n",
    "DON'T MODIFY ANYTHING IN THIS CELL THAT IS BELOW THIS LINE\n",
    "\"\"\"\n",
    "tests.test_con_pool(conv2d_maxpool)"
   ]
  },
  {
   "cell_type": "markdown",
   "metadata": {},
   "source": [
    "### Flatten Layer\n",
    "Implement the `flatten` function to change the dimension of `x_tensor` from a 4-D tensor to a 2-D tensor.  The output should be the shape (*Batch Size*, *Flattened Image Size*). Shortcut option: you can use classes from the [TensorFlow Layers](https://www.tensorflow.org/api_docs/python/tf/layers) or [TensorFlow Layers (contrib)](https://www.tensorflow.org/api_guides/python/contrib.layers) packages for this layer. For more of a challenge, only use other TensorFlow packages."
   ]
  },
  {
   "cell_type": "code",
   "execution_count": 9,
   "metadata": {},
   "outputs": [
    {
     "name": "stdout",
     "output_type": "stream",
     "text": [
      "Tests Passed\n"
     ]
    }
   ],
   "source": [
    "def flatten(x_tensor):\n",
    "    \"\"\"\n",
    "    Flatten x_tensor to (Batch Size, Flattened Image Size)\n",
    "    : x_tensor: A tensor of size (Batch Size, ...), where ... are the image dimensions.\n",
    "    : return: A tensor of size (Batch Size, Flattened Image Size).\n",
    "    \"\"\"\n",
    "    # TODO: Implement Function\n",
    "    shape = x_tensor.get_shape().as_list()\n",
    "    return tf.reshape(x_tensor, [-1,shape[1]*shape[2]*shape[3]])\n",
    "\n",
    "\n",
    "\"\"\"\n",
    "DON'T MODIFY ANYTHING IN THIS CELL THAT IS BELOW THIS LINE\n",
    "\"\"\"\n",
    "tests.test_flatten(flatten)"
   ]
  },
  {
   "cell_type": "markdown",
   "metadata": {},
   "source": [
    "### Fully-Connected Layer\n",
    "Implement the `fully_conn` function to apply a fully connected layer to `x_tensor` with the shape (*Batch Size*, *num_outputs*). Shortcut option: you can use classes from the [TensorFlow Layers](https://www.tensorflow.org/api_docs/python/tf/layers) or [TensorFlow Layers (contrib)](https://www.tensorflow.org/api_guides/python/contrib.layers) packages for this layer. For more of a challenge, only use other TensorFlow packages."
   ]
  },
  {
   "cell_type": "code",
   "execution_count": 10,
   "metadata": {},
   "outputs": [
    {
     "name": "stdout",
     "output_type": "stream",
     "text": [
      "Tests Passed\n"
     ]
    }
   ],
   "source": [
    "def fully_conn(x_tensor, num_outputs):\n",
    "    \"\"\"\n",
    "    Apply a fully connected layer to x_tensor using weight and bias\n",
    "    : x_tensor: A 2-D tensor where the first dimension is batch size.\n",
    "    : num_outputs: The number of output that the new tensor should be.\n",
    "    : return: A 2-D tensor where the second dimension is num_outputs.\n",
    "    \"\"\"\n",
    "    # TODO: Implement Function\n",
    "    shape = x_tensor.get_shape().as_list()\n",
    "    \n",
    "    weights = tf.Variable(tf.truncated_normal([shape[-1],num_outputs],mean=0.0,stddev=0.1))\n",
    "    biases = tf.Variable(tf.zeros([num_outputs]))\n",
    "    fc_tensor = tf.add(tf.matmul(x_tensor, weights), biases)\n",
    "    fc_tensor = tf.nn.relu(fc_tensor)\n",
    "    return fc_tensor\n",
    "    \n",
    "\"\"\"\n",
    "DON'T MODIFY ANYTHING IN THIS CELL THAT IS BELOW THIS LINE\n",
    "\"\"\"\n",
    "tests.test_fully_conn(fully_conn)"
   ]
  },
  {
   "cell_type": "markdown",
   "metadata": {},
   "source": [
    "### Output Layer\n",
    "Implement the `output` function to apply a fully connected layer to `x_tensor` with the shape (*Batch Size*, *num_outputs*). Shortcut option: you can use classes from the [TensorFlow Layers](https://www.tensorflow.org/api_docs/python/tf/layers) or [TensorFlow Layers (contrib)](https://www.tensorflow.org/api_guides/python/contrib.layers) packages for this layer. For more of a challenge, only use other TensorFlow packages.\n",
    "\n",
    "**Note:** Activation, softmax, or cross entropy should **not** be applied to this."
   ]
  },
  {
   "cell_type": "code",
   "execution_count": 11,
   "metadata": {},
   "outputs": [
    {
     "name": "stdout",
     "output_type": "stream",
     "text": [
      "Tests Passed\n"
     ]
    }
   ],
   "source": [
    "def output(x_tensor, num_outputs):\n",
    "    \"\"\"\n",
    "    Apply a output layer to x_tensor using weight and bias\n",
    "    : x_tensor: A 2-D tensor where the first dimension is batch size.\n",
    "    : num_outputs: The number of output that the new tensor should be.\n",
    "    : return: A 2-D tensor where the second dimension is num_outputs.\n",
    "    \"\"\"\n",
    "    # TODO: Implement Function\n",
    "    shape = x_tensor.get_shape().as_list()\n",
    "    \n",
    "    weights = tf.Variable(tf.truncated_normal([shape[-1],num_outputs],mean=0.0,stddev=0.1))\n",
    "    biases = tf.Variable(tf.zeros([num_outputs]))\n",
    "    return tf.add(tf.matmul(x_tensor, weights), biases)\n",
    "\n",
    "\"\"\"\n",
    "DON'T MODIFY ANYTHING IN THIS CELL THAT IS BELOW THIS LINE\n",
    "\"\"\"\n",
    "tests.test_output(output)"
   ]
  },
  {
   "cell_type": "markdown",
   "metadata": {},
   "source": [
    "### Create Convolutional Model\n",
    "Implement the function `conv_net` to create a convolutional neural network model. The function takes in a batch of images, `x`, and outputs logits.  Use the layers you created above to create this model:\n",
    "\n",
    "* Apply 1, 2, or 3 Convolution and Max Pool layers\n",
    "* Apply a Flatten Layer\n",
    "* Apply 1, 2, or 3 Fully Connected Layers\n",
    "* Apply an Output Layer\n",
    "* Return the output\n",
    "* Apply [TensorFlow's Dropout](https://www.tensorflow.org/api_docs/python/tf/nn/dropout) to one or more layers in the model using `keep_prob`. "
   ]
  },
  {
   "cell_type": "code",
   "execution_count": 12,
   "metadata": {},
   "outputs": [
    {
     "name": "stdout",
     "output_type": "stream",
     "text": [
      "Neural Network Built!\n"
     ]
    }
   ],
   "source": [
    "def conv_net(x, keep_prob):\n",
    "    \"\"\"\n",
    "    Create a convolutional neural network model\n",
    "    : x: Placeholder tensor that holds image data.\n",
    "    : keep_prob: Placeholder tensor that hold dropout keep probability.\n",
    "    : return: Tensor that represents logits\n",
    "    \"\"\"\n",
    "    # TODO: Apply 1, 2, or 3 Convolution and Max Pool layers\n",
    "    #    Play around with different number of outputs, kernel size and stride\n",
    "    # Function Definition from Above:\n",
    "    #    conv2d_maxpool(x_tensor, conv_num_outputs, conv_ksize, conv_strides, pool_ksize, pool_strides)\n",
    "    x_tensor = conv2d_maxpool(x, 16,[3,3],[1,1],[2,2],[2,2])\n",
    "    x_tensor = conv2d_maxpool(x_tensor, 32, [3,3],[1,1],[2,2],[2,2])\n",
    "    \n",
    "    # TODO: Apply a Flatten Layer\n",
    "    # Function Definition from Above:\n",
    "    #   flatten(x_tensor)\n",
    "    x_tensor = flatten(x_tensor)\n",
    "\n",
    "    # TODO: Apply 1, 2, or 3 Fully Connected Layers\n",
    "    #    Play around with different number of outputs\n",
    "    # Function Definition from Above:\n",
    "    #   fully_conn(x_tensor, num_outputs)\n",
    "    x_tensor = fully_conn(x_tensor, 512)\n",
    "    x_tensor = fully_conn(x_tensor, 256)\n",
    "    x_tensor = fully_conn(x_tensor, 128)\n",
    "    x_tensor = tf.nn.dropout(x_tensor, keep_prob)\n",
    "\n",
    "    \n",
    "    # TODO: Apply an Output Layer\n",
    "    #    Set this to the number of classes\n",
    "    # Function Definition from Above:\n",
    "    #   output(x_tensor, num_outputs)\n",
    "    \n",
    "    \n",
    "    \n",
    "    # TODO: return output\n",
    "    return output(x_tensor, 10)\n",
    "\n",
    "\n",
    "\"\"\"\n",
    "DON'T MODIFY ANYTHING IN THIS CELL THAT IS BELOW THIS LINE\n",
    "\"\"\"\n",
    "\n",
    "##############################\n",
    "## Build the Neural Network ##\n",
    "##############################\n",
    "\n",
    "# Remove previous weights, bias, inputs, etc..\n",
    "tf.reset_default_graph()\n",
    "\n",
    "# Inputs\n",
    "x = neural_net_image_input((32, 32, 3))\n",
    "y = neural_net_label_input(10)\n",
    "keep_prob = neural_net_keep_prob_input()\n",
    "\n",
    "# Model\n",
    "logits = conv_net(x, keep_prob)\n",
    "\n",
    "# Name logits Tensor, so that is can be loaded from disk after training\n",
    "logits = tf.identity(logits, name='logits')\n",
    "\n",
    "# Loss and Optimizer\n",
    "cost = tf.reduce_mean(tf.nn.softmax_cross_entropy_with_logits(logits=logits, labels=y))\n",
    "optimizer = tf.train.AdamOptimizer().minimize(cost)\n",
    "\n",
    "# Accuracy\n",
    "correct_pred = tf.equal(tf.argmax(logits, 1), tf.argmax(y, 1))\n",
    "accuracy = tf.reduce_mean(tf.cast(correct_pred, tf.float32), name='accuracy')\n",
    "\n",
    "tests.test_conv_net(conv_net)"
   ]
  },
  {
   "cell_type": "markdown",
   "metadata": {},
   "source": [
    "## Train the Neural Network\n",
    "### Single Optimization\n",
    "Implement the function `train_neural_network` to do a single optimization.  The optimization should use `optimizer` to optimize in `session` with a `feed_dict` of the following:\n",
    "* `x` for image input\n",
    "* `y` for labels\n",
    "* `keep_prob` for keep probability for dropout\n",
    "\n",
    "This function will be called for each batch, so `tf.global_variables_initializer()` has already been called.\n",
    "\n",
    "Note: Nothing needs to be returned. This function is only optimizing the neural network."
   ]
  },
  {
   "cell_type": "code",
   "execution_count": 13,
   "metadata": {},
   "outputs": [
    {
     "name": "stdout",
     "output_type": "stream",
     "text": [
      "Tests Passed\n"
     ]
    }
   ],
   "source": [
    "def train_neural_network(session, optimizer, keep_probability, feature_batch, label_batch):\n",
    "    \"\"\"\n",
    "    Optimize the session on a batch of images and labels\n",
    "    : session: Current TensorFlow session\n",
    "    : optimizer: TensorFlow optimizer function\n",
    "    : keep_probability: keep probability\n",
    "    : feature_batch: Batch of Numpy image data\n",
    "    : label_batch: Batch of Numpy label data\n",
    "    \"\"\"\n",
    "    # TODO: Implement Function\n",
    "    \n",
    "    train_feed_dict = {\n",
    "        x: feature_batch,\n",
    "        y: label_batch,\n",
    "        keep_prob: keep_probability\n",
    "    }\n",
    "    \n",
    "    session.run(optimizer, feed_dict=train_feed_dict)\n",
    "\n",
    "\n",
    "\"\"\"\n",
    "DON'T MODIFY ANYTHING IN THIS CELL THAT IS BELOW THIS LINE\n",
    "\"\"\"\n",
    "tests.test_train_nn(train_neural_network)"
   ]
  },
  {
   "cell_type": "markdown",
   "metadata": {},
   "source": [
    "### Show Stats\n",
    "Implement the function `print_stats` to print loss and validation accuracy.  Use the global variables `valid_features` and `valid_labels` to calculate validation accuracy.  Use a keep probability of `1.0` to calculate the loss and validation accuracy."
   ]
  },
  {
   "cell_type": "code",
   "execution_count": 14,
   "metadata": {},
   "outputs": [],
   "source": [
    "def print_stats(session, feature_batch, label_batch, cost, accuracy):\n",
    "    \"\"\"\n",
    "    Print information about loss and validation accuracy\n",
    "    : session: Current TensorFlow session\n",
    "    : feature_batch: Batch of Numpy image data\n",
    "    : label_batch: Batch of Numpy label data\n",
    "    : cost: TensorFlow cost function\n",
    "    : accuracy: TensorFlow accuracy function\n",
    "    \"\"\"\n",
    "    # TODO: Implement Function\n",
    "    accuracy_dict = {\n",
    "        x: valid_features,\n",
    "        y: valid_labels,\n",
    "        keep_prob: 1.0\n",
    "    }\n",
    "    \n",
    "    loss_dict = {\n",
    "        x: feature_batch,\n",
    "        y: label_batch,\n",
    "        keep_prob: 1.0\n",
    "    }\n",
    "    \n",
    "    validation_accuracy = sess.run(accuracy, accuracy_dict)\n",
    "    loss = sess.run(cost, loss_dict)\n",
    "    print(\"Loss: {}, Validation accuracy: {}\".format(loss, validation_accuracy))"
   ]
  },
  {
   "cell_type": "markdown",
   "metadata": {},
   "source": [
    "### Hyperparameters\n",
    "Tune the following parameters:\n",
    "* Set `epochs` to the number of iterations until the network stops learning or start overfitting\n",
    "* Set `batch_size` to the highest number that your machine has memory for.  Most people set them to common sizes of memory:\n",
    " * 64\n",
    " * 128\n",
    " * 256\n",
    " * ...\n",
    "* Set `keep_probability` to the probability of keeping a node using dropout"
   ]
  },
  {
   "cell_type": "code",
   "execution_count": 15,
   "metadata": {
    "collapsed": true
   },
   "outputs": [],
   "source": [
    "# TODO: Tune Parameters\n",
    "epochs = 30\n",
    "batch_size = 256\n",
    "keep_probability = 0.75"
   ]
  },
  {
   "cell_type": "markdown",
   "metadata": {},
   "source": [
    "### Train on a Single CIFAR-10 Batch\n",
    "Instead of training the neural network on all the CIFAR-10 batches of data, let's use a single batch. This should save time while you iterate on the model to get a better accuracy.  Once the final validation accuracy is 50% or greater, run the model on all the data in the next section."
   ]
  },
  {
   "cell_type": "code",
   "execution_count": 16,
   "metadata": {
    "scrolled": true
   },
   "outputs": [
    {
     "name": "stdout",
     "output_type": "stream",
     "text": [
      "Checking the Training on a Single Batch...\n",
      "Epoch  1, CIFAR-10 Batch 1:  Loss: 1.92143976688385, Validation accuracy: 0.37779998779296875\n",
      "Epoch  2, CIFAR-10 Batch 1:  Loss: 1.5660768747329712, Validation accuracy: 0.44440001249313354\n",
      "Epoch  3, CIFAR-10 Batch 1:  Loss: 1.2786338329315186, Validation accuracy: 0.4729999899864197\n",
      "Epoch  4, CIFAR-10 Batch 1:  Loss: 1.0844779014587402, Validation accuracy: 0.4544000029563904\n",
      "Epoch  5, CIFAR-10 Batch 1:  Loss: 0.851131796836853, Validation accuracy: 0.5072000026702881\n",
      "Epoch  6, CIFAR-10 Batch 1:  Loss: 0.7438764572143555, Validation accuracy: 0.4885999858379364\n",
      "Epoch  7, CIFAR-10 Batch 1:  Loss: 0.588507354259491, Validation accuracy: 0.5171999931335449\n",
      "Epoch  8, CIFAR-10 Batch 1:  Loss: 0.4800490736961365, Validation accuracy: 0.5185999870300293\n",
      "Epoch  9, CIFAR-10 Batch 1:  Loss: 0.4245545268058777, Validation accuracy: 0.5311999917030334\n",
      "Epoch 10, CIFAR-10 Batch 1:  Loss: 0.3027670383453369, Validation accuracy: 0.5350000262260437\n",
      "Epoch 11, CIFAR-10 Batch 1:  Loss: 0.23123414814472198, Validation accuracy: 0.5320000052452087\n",
      "Epoch 12, CIFAR-10 Batch 1:  Loss: 0.1756724864244461, Validation accuracy: 0.5238000154495239\n",
      "Epoch 13, CIFAR-10 Batch 1:  Loss: 0.15347567200660706, Validation accuracy: 0.5217999815940857\n",
      "Epoch 14, CIFAR-10 Batch 1:  Loss: 0.12040095031261444, Validation accuracy: 0.5302000045776367\n",
      "Epoch 15, CIFAR-10 Batch 1:  Loss: 0.16003572940826416, Validation accuracy: 0.5126000046730042\n",
      "Epoch 16, CIFAR-10 Batch 1:  Loss: 0.1010550707578659, Validation accuracy: 0.5253999829292297\n",
      "Epoch 17, CIFAR-10 Batch 1:  Loss: 0.09070803225040436, Validation accuracy: 0.519599974155426\n",
      "Epoch 18, CIFAR-10 Batch 1:  Loss: 0.0691855251789093, Validation accuracy: 0.5148000121116638\n",
      "Epoch 19, CIFAR-10 Batch 1:  Loss: 0.023377759382128716, Validation accuracy: 0.5601999759674072\n",
      "Epoch 20, CIFAR-10 Batch 1:  Loss: 0.015444071963429451, Validation accuracy: 0.5649999976158142\n",
      "Epoch 21, CIFAR-10 Batch 1:  Loss: 0.013760318979620934, Validation accuracy: 0.5221999883651733\n",
      "Epoch 22, CIFAR-10 Batch 1:  Loss: 0.01325659267604351, Validation accuracy: 0.5013999938964844\n",
      "Epoch 23, CIFAR-10 Batch 1:  Loss: 0.016520332545042038, Validation accuracy: 0.5432000160217285\n",
      "Epoch 24, CIFAR-10 Batch 1:  Loss: 0.017427455633878708, Validation accuracy: 0.5364000201225281\n",
      "Epoch 25, CIFAR-10 Batch 1:  Loss: 0.009955662302672863, Validation accuracy: 0.5357999801635742\n",
      "Epoch 26, CIFAR-10 Batch 1:  Loss: 0.008921525441110134, Validation accuracy: 0.5393999814987183\n",
      "Epoch 27, CIFAR-10 Batch 1:  Loss: 0.0015808213502168655, Validation accuracy: 0.5576000213623047\n",
      "Epoch 28, CIFAR-10 Batch 1:  Loss: 0.002313658595085144, Validation accuracy: 0.546999990940094\n",
      "Epoch 29, CIFAR-10 Batch 1:  Loss: 0.0016047668177634478, Validation accuracy: 0.5400000214576721\n",
      "Epoch 30, CIFAR-10 Batch 1:  Loss: 0.0008530413615517318, Validation accuracy: 0.5483999848365784\n"
     ]
    }
   ],
   "source": [
    "\"\"\"\n",
    "DON'T MODIFY ANYTHING IN THIS CELL\n",
    "\"\"\"\n",
    "print('Checking the Training on a Single Batch...')\n",
    "with tf.Session() as sess:\n",
    "    # Initializing the variables\n",
    "    sess.run(tf.global_variables_initializer())\n",
    "    \n",
    "    # Training cycle\n",
    "    for epoch in range(epochs):\n",
    "        batch_i = 1\n",
    "        for batch_features, batch_labels in helper.load_preprocess_training_batch(batch_i, batch_size):\n",
    "            train_neural_network(sess, optimizer, keep_probability, batch_features, batch_labels)\n",
    "        print('Epoch {:>2}, CIFAR-10 Batch {}:  '.format(epoch + 1, batch_i), end='')\n",
    "        print_stats(sess, batch_features, batch_labels, cost, accuracy)"
   ]
  },
  {
   "cell_type": "markdown",
   "metadata": {},
   "source": [
    "### Fully Train the Model\n",
    "Now that you got a good accuracy with a single CIFAR-10 batch, try it with all five batches."
   ]
  },
  {
   "cell_type": "code",
   "execution_count": 17,
   "metadata": {},
   "outputs": [
    {
     "name": "stdout",
     "output_type": "stream",
     "text": [
      "Training...\n",
      "Epoch  1, CIFAR-10 Batch 1:  Loss: 1.8737090826034546, Validation accuracy: 0.3781999945640564\n",
      "Epoch  1, CIFAR-10 Batch 2:  Loss: 1.5948069095611572, Validation accuracy: 0.44179999828338623\n",
      "Epoch  1, CIFAR-10 Batch 3:  Loss: 1.1928470134735107, Validation accuracy: 0.47699999809265137\n",
      "Epoch  1, CIFAR-10 Batch 4:  Loss: 1.3324687480926514, Validation accuracy: 0.4986000061035156\n",
      "Epoch  1, CIFAR-10 Batch 5:  Loss: 1.3425590991973877, Validation accuracy: 0.5070000290870667\n",
      "Epoch  2, CIFAR-10 Batch 1:  Loss: 1.260089635848999, Validation accuracy: 0.5188000202178955\n",
      "Epoch  2, CIFAR-10 Batch 2:  Loss: 1.0194857120513916, Validation accuracy: 0.5546000003814697\n",
      "Epoch  2, CIFAR-10 Batch 3:  Loss: 0.8632484674453735, Validation accuracy: 0.5212000012397766\n",
      "Epoch  2, CIFAR-10 Batch 4:  Loss: 1.069405198097229, Validation accuracy: 0.5440000295639038\n",
      "Epoch  2, CIFAR-10 Batch 5:  Loss: 1.0379514694213867, Validation accuracy: 0.5559999942779541\n",
      "Epoch  3, CIFAR-10 Batch 1:  Loss: 0.9174173474311829, Validation accuracy: 0.5590000152587891\n",
      "Epoch  3, CIFAR-10 Batch 2:  Loss: 0.6747686266899109, Validation accuracy: 0.5861999988555908\n",
      "Epoch  3, CIFAR-10 Batch 3:  Loss: 0.6187564134597778, Validation accuracy: 0.5546000003814697\n",
      "Epoch  3, CIFAR-10 Batch 4:  Loss: 0.7375807762145996, Validation accuracy: 0.5849999785423279\n",
      "Epoch  3, CIFAR-10 Batch 5:  Loss: 0.6999915838241577, Validation accuracy: 0.5935999751091003\n",
      "Epoch  4, CIFAR-10 Batch 1:  Loss: 0.7350635528564453, Validation accuracy: 0.5910000205039978\n",
      "Epoch  4, CIFAR-10 Batch 2:  Loss: 0.46325236558914185, Validation accuracy: 0.6137999892234802\n",
      "Epoch  4, CIFAR-10 Batch 3:  Loss: 0.44853219389915466, Validation accuracy: 0.5595999956130981\n",
      "Epoch  4, CIFAR-10 Batch 4:  Loss: 0.5192611813545227, Validation accuracy: 0.6240000128746033\n",
      "Epoch  4, CIFAR-10 Batch 5:  Loss: 0.4762093424797058, Validation accuracy: 0.6168000102043152\n",
      "Epoch  5, CIFAR-10 Batch 1:  Loss: 0.5904969573020935, Validation accuracy: 0.6187999844551086\n",
      "Epoch  5, CIFAR-10 Batch 2:  Loss: 0.3382558822631836, Validation accuracy: 0.623199999332428\n",
      "Epoch  5, CIFAR-10 Batch 3:  Loss: 0.33447834849357605, Validation accuracy: 0.6096000075340271\n",
      "Epoch  5, CIFAR-10 Batch 4:  Loss: 0.38882866501808167, Validation accuracy: 0.6233999729156494\n",
      "Epoch  5, CIFAR-10 Batch 5:  Loss: 0.3156448006629944, Validation accuracy: 0.6186000108718872\n",
      "Epoch  6, CIFAR-10 Batch 1:  Loss: 0.4307301640510559, Validation accuracy: 0.628600001335144\n",
      "Epoch  6, CIFAR-10 Batch 2:  Loss: 0.20736758410930634, Validation accuracy: 0.628600001335144\n",
      "Epoch  6, CIFAR-10 Batch 3:  Loss: 0.1950007677078247, Validation accuracy: 0.6353999972343445\n",
      "Epoch  6, CIFAR-10 Batch 4:  Loss: 0.24961085617542267, Validation accuracy: 0.6284000277519226\n",
      "Epoch  6, CIFAR-10 Batch 5:  Loss: 0.22614645957946777, Validation accuracy: 0.645799994468689\n",
      "Epoch  7, CIFAR-10 Batch 1:  Loss: 0.30968770384788513, Validation accuracy: 0.6197999715805054\n",
      "Epoch  7, CIFAR-10 Batch 2:  Loss: 0.12069499492645264, Validation accuracy: 0.6403999924659729\n",
      "Epoch  7, CIFAR-10 Batch 3:  Loss: 0.13250526785850525, Validation accuracy: 0.6326000094413757\n",
      "Epoch  7, CIFAR-10 Batch 4:  Loss: 0.16088588535785675, Validation accuracy: 0.6204000115394592\n",
      "Epoch  7, CIFAR-10 Batch 5:  Loss: 0.14259400963783264, Validation accuracy: 0.6430000066757202\n",
      "Epoch  8, CIFAR-10 Batch 1:  Loss: 0.2111581563949585, Validation accuracy: 0.6176000237464905\n",
      "Epoch  8, CIFAR-10 Batch 2:  Loss: 0.06891997903585434, Validation accuracy: 0.6549999713897705\n",
      "Epoch  8, CIFAR-10 Batch 3:  Loss: 0.09012056887149811, Validation accuracy: 0.6209999918937683\n",
      "Epoch  8, CIFAR-10 Batch 4:  Loss: 0.09366871416568756, Validation accuracy: 0.6373999714851379\n",
      "Epoch  8, CIFAR-10 Batch 5:  Loss: 0.103049635887146, Validation accuracy: 0.6434000134468079\n",
      "Epoch  9, CIFAR-10 Batch 1:  Loss: 0.10796856880187988, Validation accuracy: 0.6439999938011169\n",
      "Epoch  9, CIFAR-10 Batch 2:  Loss: 0.07354659587144852, Validation accuracy: 0.6425999999046326\n",
      "Epoch  9, CIFAR-10 Batch 3:  Loss: 0.05014720559120178, Validation accuracy: 0.6051999926567078\n",
      "Epoch  9, CIFAR-10 Batch 4:  Loss: 0.05173933506011963, Validation accuracy: 0.6309999823570251\n",
      "Epoch  9, CIFAR-10 Batch 5:  Loss: 0.08118917793035507, Validation accuracy: 0.6389999985694885\n",
      "Epoch 10, CIFAR-10 Batch 1:  Loss: 0.12686224281787872, Validation accuracy: 0.621399998664856\n",
      "Epoch 10, CIFAR-10 Batch 2:  Loss: 0.04900287464261055, Validation accuracy: 0.6571999788284302\n",
      "Epoch 10, CIFAR-10 Batch 3:  Loss: 0.04475611075758934, Validation accuracy: 0.592199981212616\n",
      "Epoch 10, CIFAR-10 Batch 4:  Loss: 0.06249991059303284, Validation accuracy: 0.646399974822998\n",
      "Epoch 10, CIFAR-10 Batch 5:  Loss: 0.05572034791111946, Validation accuracy: 0.6313999891281128\n",
      "Epoch 11, CIFAR-10 Batch 1:  Loss: 0.06848974525928497, Validation accuracy: 0.6255999803543091\n",
      "Epoch 11, CIFAR-10 Batch 2:  Loss: 0.036354221403598785, Validation accuracy: 0.6449999809265137\n",
      "Epoch 11, CIFAR-10 Batch 3:  Loss: 0.04541493207216263, Validation accuracy: 0.6262000203132629\n",
      "Epoch 11, CIFAR-10 Batch 4:  Loss: 0.03100617602467537, Validation accuracy: 0.633400022983551\n",
      "Epoch 11, CIFAR-10 Batch 5:  Loss: 0.04105790704488754, Validation accuracy: 0.6093999743461609\n",
      "Epoch 12, CIFAR-10 Batch 1:  Loss: 0.034885093569755554, Validation accuracy: 0.623199999332428\n",
      "Epoch 12, CIFAR-10 Batch 2:  Loss: 0.03271080181002617, Validation accuracy: 0.6254000067710876\n",
      "Epoch 12, CIFAR-10 Batch 3:  Loss: 0.029071804136037827, Validation accuracy: 0.6069999933242798\n",
      "Epoch 12, CIFAR-10 Batch 4:  Loss: 0.027937162667512894, Validation accuracy: 0.6439999938011169\n",
      "Epoch 12, CIFAR-10 Batch 5:  Loss: 0.021507058292627335, Validation accuracy: 0.6129999756813049\n",
      "Epoch 13, CIFAR-10 Batch 1:  Loss: 0.016890892758965492, Validation accuracy: 0.6358000040054321\n",
      "Epoch 13, CIFAR-10 Batch 2:  Loss: 0.028805410489439964, Validation accuracy: 0.631600022315979\n",
      "Epoch 13, CIFAR-10 Batch 3:  Loss: 0.013305735774338245, Validation accuracy: 0.6194000244140625\n",
      "Epoch 13, CIFAR-10 Batch 4:  Loss: 0.025662148371338844, Validation accuracy: 0.6241999864578247\n",
      "Epoch 13, CIFAR-10 Batch 5:  Loss: 0.022308282554149628, Validation accuracy: 0.6304000020027161\n",
      "Epoch 14, CIFAR-10 Batch 1:  Loss: 0.020163586363196373, Validation accuracy: 0.6269999742507935\n",
      "Epoch 14, CIFAR-10 Batch 2:  Loss: 0.005946723744273186, Validation accuracy: 0.6398000121116638\n",
      "Epoch 14, CIFAR-10 Batch 3:  Loss: 0.03713947534561157, Validation accuracy: 0.6317999958992004\n",
      "Epoch 14, CIFAR-10 Batch 4:  Loss: 0.013412995263934135, Validation accuracy: 0.6177999973297119\n",
      "Epoch 14, CIFAR-10 Batch 5:  Loss: 0.01615194045007229, Validation accuracy: 0.6403999924659729\n",
      "Epoch 15, CIFAR-10 Batch 1:  Loss: 0.012569892220199108, Validation accuracy: 0.6263999938964844\n",
      "Epoch 15, CIFAR-10 Batch 2:  Loss: 0.029252147302031517, Validation accuracy: 0.602400004863739\n",
      "Epoch 15, CIFAR-10 Batch 3:  Loss: 0.022270986810326576, Validation accuracy: 0.6055999994277954\n",
      "Epoch 15, CIFAR-10 Batch 4:  Loss: 0.008223522454500198, Validation accuracy: 0.6263999938964844\n",
      "Epoch 15, CIFAR-10 Batch 5:  Loss: 0.006239741109311581, Validation accuracy: 0.6597999930381775\n",
      "Epoch 16, CIFAR-10 Batch 1:  Loss: 0.01293027400970459, Validation accuracy: 0.6197999715805054\n",
      "Epoch 16, CIFAR-10 Batch 2:  Loss: 0.012983528897166252, Validation accuracy: 0.6019999980926514\n",
      "Epoch 16, CIFAR-10 Batch 3:  Loss: 0.003472518641501665, Validation accuracy: 0.6190000176429749\n",
      "Epoch 16, CIFAR-10 Batch 4:  Loss: 0.00810270756483078, Validation accuracy: 0.6320000290870667\n",
      "Epoch 16, CIFAR-10 Batch 5:  Loss: 0.009018474258482456, Validation accuracy: 0.6399999856948853\n",
      "Epoch 17, CIFAR-10 Batch 1:  Loss: 0.0063653504475951195, Validation accuracy: 0.6141999959945679\n",
      "Epoch 17, CIFAR-10 Batch 2:  Loss: 0.019164441153407097, Validation accuracy: 0.5698000192642212\n",
      "Epoch 17, CIFAR-10 Batch 3:  Loss: 0.008675847202539444, Validation accuracy: 0.6330000162124634\n",
      "Epoch 17, CIFAR-10 Batch 4:  Loss: 0.006579071283340454, Validation accuracy: 0.6272000074386597\n",
      "Epoch 17, CIFAR-10 Batch 5:  Loss: 0.007365760393440723, Validation accuracy: 0.6284000277519226\n",
      "Epoch 18, CIFAR-10 Batch 1:  Loss: 0.003487988607957959, Validation accuracy: 0.6251999735832214\n",
      "Epoch 18, CIFAR-10 Batch 2:  Loss: 0.007670437451452017, Validation accuracy: 0.6177999973297119\n",
      "Epoch 18, CIFAR-10 Batch 3:  Loss: 0.0038075842894613743, Validation accuracy: 0.6430000066757202\n",
      "Epoch 18, CIFAR-10 Batch 4:  Loss: 0.013334398157894611, Validation accuracy: 0.621399998664856\n",
      "Epoch 18, CIFAR-10 Batch 5:  Loss: 0.002485851291567087, Validation accuracy: 0.6412000060081482\n",
      "Epoch 19, CIFAR-10 Batch 1:  Loss: 0.003253327216953039, Validation accuracy: 0.6340000033378601\n",
      "Epoch 19, CIFAR-10 Batch 2:  Loss: 0.006184279918670654, Validation accuracy: 0.6388000249862671\n",
      "Epoch 19, CIFAR-10 Batch 3:  Loss: 0.000640034326352179, Validation accuracy: 0.6377999782562256\n",
      "Epoch 19, CIFAR-10 Batch 4:  Loss: 0.0026520066894590855, Validation accuracy: 0.6200000047683716\n",
      "Epoch 19, CIFAR-10 Batch 5:  Loss: 0.0019884805660694838, Validation accuracy: 0.645799994468689\n",
      "Epoch 20, CIFAR-10 Batch 1:  Loss: 0.0020419133361428976, Validation accuracy: 0.6430000066757202\n",
      "Epoch 20, CIFAR-10 Batch 2:  Loss: 0.0005162327433936298, Validation accuracy: 0.6349999904632568\n",
      "Epoch 20, CIFAR-10 Batch 3:  Loss: 0.0015392543282359838, Validation accuracy: 0.6421999931335449\n",
      "Epoch 20, CIFAR-10 Batch 4:  Loss: 0.0021031065843999386, Validation accuracy: 0.6241999864578247\n",
      "Epoch 20, CIFAR-10 Batch 5:  Loss: 0.002948023844510317, Validation accuracy: 0.6449999809265137\n",
      "Epoch 21, CIFAR-10 Batch 1:  Loss: 0.0007722118753008544, Validation accuracy: 0.6488000154495239\n",
      "Epoch 21, CIFAR-10 Batch 2:  Loss: 0.0005583298043347895, Validation accuracy: 0.6373999714851379\n",
      "Epoch 21, CIFAR-10 Batch 3:  Loss: 0.0007396213477477431, Validation accuracy: 0.640999972820282\n",
      "Epoch 21, CIFAR-10 Batch 4:  Loss: 0.0063194334506988525, Validation accuracy: 0.6344000101089478\n",
      "Epoch 21, CIFAR-10 Batch 5:  Loss: 0.0017116561066359282, Validation accuracy: 0.6521999835968018\n",
      "Epoch 22, CIFAR-10 Batch 1:  Loss: 0.0015679856296628714, Validation accuracy: 0.649399995803833\n",
      "Epoch 22, CIFAR-10 Batch 2:  Loss: 0.00041618524119257927, Validation accuracy: 0.6471999883651733\n",
      "Epoch 22, CIFAR-10 Batch 3:  Loss: 0.0007306587067432702, Validation accuracy: 0.6467999815940857\n",
      "Epoch 22, CIFAR-10 Batch 4:  Loss: 0.0013262858847156167, Validation accuracy: 0.6226000189781189\n",
      "Epoch 22, CIFAR-10 Batch 5:  Loss: 0.0015895257238298655, Validation accuracy: 0.6517999768257141\n",
      "Epoch 23, CIFAR-10 Batch 1:  Loss: 0.00027352379402145743, Validation accuracy: 0.659600019454956\n",
      "Epoch 23, CIFAR-10 Batch 2:  Loss: 6.209820276126266e-05, Validation accuracy: 0.6371999979019165\n",
      "Epoch 23, CIFAR-10 Batch 3:  Loss: 0.002040122402831912, Validation accuracy: 0.6439999938011169\n",
      "Epoch 23, CIFAR-10 Batch 4:  Loss: 0.0007515266188420355, Validation accuracy: 0.628600001335144\n",
      "Epoch 23, CIFAR-10 Batch 5:  Loss: 0.003181965323165059, Validation accuracy: 0.6373999714851379\n",
      "Epoch 24, CIFAR-10 Batch 1:  Loss: 0.00024024545564316213, Validation accuracy: 0.6620000004768372\n",
      "Epoch 24, CIFAR-10 Batch 2:  Loss: 0.0004744760226458311, Validation accuracy: 0.6417999863624573\n",
      "Epoch 24, CIFAR-10 Batch 3:  Loss: 0.0011473975609987974, Validation accuracy: 0.6128000020980835\n",
      "Epoch 24, CIFAR-10 Batch 4:  Loss: 0.0004939229693263769, Validation accuracy: 0.628600001335144\n",
      "Epoch 24, CIFAR-10 Batch 5:  Loss: 0.0004888229304924607, Validation accuracy: 0.6402000188827515\n",
      "Epoch 25, CIFAR-10 Batch 1:  Loss: 0.0009664854151196778, Validation accuracy: 0.6606000065803528\n",
      "Epoch 25, CIFAR-10 Batch 2:  Loss: 0.0013737345580011606, Validation accuracy: 0.6388000249862671\n",
      "Epoch 25, CIFAR-10 Batch 3:  Loss: 0.005534132476896048, Validation accuracy: 0.6284000277519226\n",
      "Epoch 25, CIFAR-10 Batch 4:  Loss: 0.0011921256082132459, Validation accuracy: 0.6258000135421753\n",
      "Epoch 25, CIFAR-10 Batch 5:  Loss: 0.0006322516710497439, Validation accuracy: 0.6430000066757202\n",
      "Epoch 26, CIFAR-10 Batch 1:  Loss: 0.002032776828855276, Validation accuracy: 0.6462000012397766\n",
      "Epoch 26, CIFAR-10 Batch 2:  Loss: 0.0007625444559380412, Validation accuracy: 0.6385999917984009\n",
      "Epoch 26, CIFAR-10 Batch 3:  Loss: 0.00032968903542496264, Validation accuracy: 0.6485999822616577\n",
      "Epoch 26, CIFAR-10 Batch 4:  Loss: 0.0009140025940723717, Validation accuracy: 0.6294000148773193\n",
      "Epoch 26, CIFAR-10 Batch 5:  Loss: 0.001230396330356598, Validation accuracy: 0.6416000127792358\n",
      "Epoch 27, CIFAR-10 Batch 1:  Loss: 0.003424398135393858, Validation accuracy: 0.6467999815940857\n",
      "Epoch 27, CIFAR-10 Batch 2:  Loss: 0.00012153731950093061, Validation accuracy: 0.6376000046730042\n",
      "Epoch 27, CIFAR-10 Batch 3:  Loss: 0.002638960490003228, Validation accuracy: 0.6474000215530396\n",
      "Epoch 27, CIFAR-10 Batch 4:  Loss: 0.001164603279903531, Validation accuracy: 0.6233999729156494\n",
      "Epoch 27, CIFAR-10 Batch 5:  Loss: 0.0016167372232303023, Validation accuracy: 0.6389999985694885\n",
      "Epoch 28, CIFAR-10 Batch 1:  Loss: 0.0024252329021692276, Validation accuracy: 0.6377999782562256\n",
      "Epoch 28, CIFAR-10 Batch 2:  Loss: 0.00047590589383617043, Validation accuracy: 0.642799973487854\n",
      "Epoch 28, CIFAR-10 Batch 3:  Loss: 5.132870137458667e-05, Validation accuracy: 0.6467999815940857\n",
      "Epoch 28, CIFAR-10 Batch 4:  Loss: 0.0008743593352846801, Validation accuracy: 0.6208000183105469\n",
      "Epoch 28, CIFAR-10 Batch 5:  Loss: 0.0015666403342038393, Validation accuracy: 0.645799994468689\n",
      "Epoch 29, CIFAR-10 Batch 1:  Loss: 0.00037619128124788404, Validation accuracy: 0.6456000208854675\n",
      "Epoch 29, CIFAR-10 Batch 2:  Loss: 0.00012569624232128263, Validation accuracy: 0.6417999863624573\n",
      "Epoch 29, CIFAR-10 Batch 3:  Loss: 0.00011804674431914464, Validation accuracy: 0.647599995136261\n",
      "Epoch 29, CIFAR-10 Batch 4:  Loss: 0.0003020874282810837, Validation accuracy: 0.6290000081062317\n",
      "Epoch 29, CIFAR-10 Batch 5:  Loss: 0.004552357830107212, Validation accuracy: 0.6353999972343445\n",
      "Epoch 30, CIFAR-10 Batch 1:  Loss: 0.0021360907703638077, Validation accuracy: 0.631600022315979\n",
      "Epoch 30, CIFAR-10 Batch 2:  Loss: 0.0014359077904373407, Validation accuracy: 0.6471999883651733\n",
      "Epoch 30, CIFAR-10 Batch 3:  Loss: 5.002042234991677e-05, Validation accuracy: 0.642799973487854\n",
      "Epoch 30, CIFAR-10 Batch 4:  Loss: 0.0004363458720035851, Validation accuracy: 0.629800021648407\n",
      "Epoch 30, CIFAR-10 Batch 5:  Loss: 0.0003179412451572716, Validation accuracy: 0.6434000134468079\n"
     ]
    }
   ],
   "source": [
    "\"\"\"\n",
    "DON'T MODIFY ANYTHING IN THIS CELL\n",
    "\"\"\"\n",
    "save_model_path = './image_classification'\n",
    "\n",
    "print('Training...')\n",
    "with tf.Session() as sess:\n",
    "    # Initializing the variables\n",
    "    sess.run(tf.global_variables_initializer())\n",
    "    \n",
    "    # Training cycle\n",
    "    for epoch in range(epochs):\n",
    "        # Loop over all batches\n",
    "        n_batches = 5\n",
    "        for batch_i in range(1, n_batches + 1):\n",
    "            for batch_features, batch_labels in helper.load_preprocess_training_batch(batch_i, batch_size):\n",
    "                train_neural_network(sess, optimizer, keep_probability, batch_features, batch_labels)\n",
    "            print('Epoch {:>2}, CIFAR-10 Batch {}:  '.format(epoch + 1, batch_i), end='')\n",
    "            print_stats(sess, batch_features, batch_labels, cost, accuracy)\n",
    "            \n",
    "    # Save Model\n",
    "    saver = tf.train.Saver()\n",
    "    save_path = saver.save(sess, save_model_path)"
   ]
  },
  {
   "cell_type": "markdown",
   "metadata": {},
   "source": [
    "# Checkpoint\n",
    "The model has been saved to disk.\n",
    "## Test Model\n",
    "Test your model against the test dataset.  This will be your final accuracy. You should have an accuracy greater than 50%. If you don't, keep tweaking the model architecture and parameters."
   ]
  },
  {
   "cell_type": "code",
   "execution_count": 18,
   "metadata": {},
   "outputs": [
    {
     "name": "stdout",
     "output_type": "stream",
     "text": [
      "Testing Accuracy: 0.6390625\n",
      "\n"
     ]
    },
    {
     "data": {
      "image/png": "[encoded data removed]",
      "text/plain": [
       "<matplotlib.figure.Figure at 0x2b798fabcc88>"
      ]
     },
     "metadata": {
      "image/png": {
       "height": 319,
       "width": 349
      }
     },
     "output_type": "display_data"
    }
   ],
   "source": [
    "\"\"\"\n",
    "DON'T MODIFY ANYTHING IN THIS CELL\n",
    "\"\"\"\n",
    "%matplotlib inline\n",
    "%config InlineBackend.figure_format = 'retina'\n",
    "\n",
    "import tensorflow as tf\n",
    "import pickle\n",
    "import helper\n",
    "import random\n",
    "\n",
    "# Set batch size if not already set\n",
    "try:\n",
    "    if batch_size:\n",
    "        pass\n",
    "except NameError:\n",
    "    batch_size = 64\n",
    "\n",
    "save_model_path = './image_classification'\n",
    "n_samples = 4\n",
    "top_n_predictions = 3\n",
    "\n",
    "def test_model():\n",
    "    \"\"\"\n",
    "    Test the saved model against the test dataset\n",
    "    \"\"\"\n",
    "\n",
    "    test_features, test_labels = pickle.load(open('preprocess_training.p', mode='rb'))\n",
    "    loaded_graph = tf.Graph()\n",
    "\n",
    "    with tf.Session(graph=loaded_graph) as sess:\n",
    "        # Load model\n",
    "        loader = tf.train.import_meta_graph(save_model_path + '.meta')\n",
    "        loader.restore(sess, save_model_path)\n",
    "\n",
    "        # Get Tensors from loaded model\n",
    "        loaded_x = loaded_graph.get_tensor_by_name('x:0')\n",
    "        loaded_y = loaded_graph.get_tensor_by_name('y:0')\n",
    "        loaded_keep_prob = loaded_graph.get_tensor_by_name('keep_prob:0')\n",
    "        loaded_logits = loaded_graph.get_tensor_by_name('logits:0')\n",
    "        loaded_acc = loaded_graph.get_tensor_by_name('accuracy:0')\n",
    "        \n",
    "        # Get accuracy in batches for memory limitations\n",
    "        test_batch_acc_total = 0\n",
    "        test_batch_count = 0\n",
    "        \n",
    "        for train_feature_batch, train_label_batch in helper.batch_features_labels(test_features, test_labels, batch_size):\n",
    "            test_batch_acc_total += sess.run(\n",
    "                loaded_acc,\n",
    "                feed_dict={loaded_x: train_feature_batch, loaded_y: train_label_batch, loaded_keep_prob: 1.0})\n",
    "            test_batch_count += 1\n",
    "\n",
    "        print('Testing Accuracy: {}\\n'.format(test_batch_acc_total/test_batch_count))\n",
    "\n",
    "        # Print Random Samples\n",
    "        random_test_features, random_test_labels = tuple(zip(*random.sample(list(zip(test_features, test_labels)), n_samples)))\n",
    "        random_test_predictions = sess.run(\n",
    "            tf.nn.top_k(tf.nn.softmax(loaded_logits), top_n_predictions),\n",
    "            feed_dict={loaded_x: random_test_features, loaded_y: random_test_labels, loaded_keep_prob: 1.0})\n",
    "        helper.display_image_predictions(random_test_features, random_test_labels, random_test_predictions)\n",
    "\n",
    "\n",
    "test_model()"
   ]
  },
  {
   "cell_type": "markdown",
   "metadata": {},
   "source": [
    "## Why 50-80% Accuracy?\n",
    "You might be wondering why you can't get an accuracy any higher. First things first, 50% isn't bad for a simple CNN.  Pure guessing would get you 10% accuracy. That's because there are many more techniques that can be applied to your model and we recemmond that once you are done with this project, you explore!\n",
    "\n",
    "## Submitting This Project\n",
    "When submitting this project, make sure to run all the cells before saving the notebook.  Save the notebook file as \"image_classification.ipynb\" and save it as a HTML file under \"File\" -> \"Download as\".  Include the \"helper.py\" and \"problem_unittests.py\" files in your submission."
   ]
  }
 ],
 "metadata": {
  "kernelspec": {
   "display_name": "Python 3",
   "language": "python",
   "name": "python3"
  },
  "language_info": {
   "codemirror_mode": {
    "name": "ipython",
    "version": 3
   },
   "file_extension": ".py",
   "mimetype": "text/x-python",
   "name": "python",
   "nbconvert_exporter": "python",
   "pygments_lexer": "ipython3",
   "version": "3.5.2"
  }
 },
 "nbformat": 4,
 "nbformat_minor": 1
}
