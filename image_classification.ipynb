{
 "cells": [
  {
   "cell_type": "markdown",
   "metadata": {
    "collapsed": true
   },
   "source": [
    "# Image Classification\n",
    "In this project, you'll classify images from the [CIFAR-10 dataset](https://www.cs.toronto.edu/~kriz/cifar.html).  The dataset consists of airplanes, dogs, cats, and other objects. You'll preprocess the images, then train a convolutional neural network on all the samples. The images need to be normalized and the labels need to be one-hot encoded.  You'll get to apply what you learned and build a convolutional, max pooling, dropout, and fully connected layers.  At the end, you'll get to see your neural network's predictions on the sample images.\n",
    "## Get the Data\n",
    "Run the following cell to download the [CIFAR-10 dataset for python](https://www.cs.toronto.edu/~kriz/cifar-10-python.tar.gz)."
   ]
  },
  {
   "cell_type": "code",
   "execution_count": 1,
   "metadata": {},
   "outputs": [
    {
     "name": "stdout",
     "output_type": "stream",
     "text": [
      "All files found!\n"
     ]
    }
   ],
   "source": [
    "\"\"\"\n",
    "DON'T MODIFY ANYTHING IN THIS CELL THAT IS BELOW THIS LINE\n",
    "\"\"\"\n",
    "from urllib.request import urlretrieve\n",
    "from os.path import isfile, isdir\n",
    "from tqdm import tqdm\n",
    "import problem_unittests as tests\n",
    "import tarfile\n",
    "\n",
    "cifar10_dataset_folder_path = 'cifar-10-batches-py'\n",
    "\n",
    "class DLProgress(tqdm):\n",
    "    last_block = 0\n",
    "\n",
    "    def hook(self, block_num=1, block_size=1, total_size=None):\n",
    "        self.total = total_size\n",
    "        self.update((block_num - self.last_block) * block_size)\n",
    "        self.last_block = block_num\n",
    "\n",
    "if not isfile('cifar-10-python.tar.gz'):\n",
    "    with DLProgress(unit='B', unit_scale=True, miniters=1, desc='CIFAR-10 Dataset') as pbar:\n",
    "        urlretrieve(\n",
    "            'https://www.cs.toronto.edu/~kriz/cifar-10-python.tar.gz',\n",
    "            'cifar-10-python.tar.gz',\n",
    "            pbar.hook)\n",
    "\n",
    "if not isdir(cifar10_dataset_folder_path):\n",
    "    with tarfile.open('cifar-10-python.tar.gz') as tar:\n",
    "        tar.extractall()\n",
    "        tar.close()\n",
    "\n",
    "\n",
    "tests.test_folder_path(cifar10_dataset_folder_path)"
   ]
  },
  {
   "cell_type": "markdown",
   "metadata": {},
   "source": [
    "## Explore the Data\n",
    "The dataset is broken into batches to prevent your machine from running out of memory.  The CIFAR-10 dataset consists of 5 batches, named `data_batch_1`, `data_batch_2`, etc.. Each batch contains the labels and images that are one of the following:\n",
    "* airplane\n",
    "* automobile\n",
    "* bird\n",
    "* cat\n",
    "* deer\n",
    "* dog\n",
    "* frog\n",
    "* horse\n",
    "* ship\n",
    "* truck\n",
    "\n",
    "Understanding a dataset is part of making predictions on the data.  Play around with the code cell below by changing the `batch_id` and `sample_id`. The `batch_id` is the id for a batch (1-5). The `sample_id` is the id for a image and label pair in the batch.\n",
    "\n",
    "Ask yourself \"What are all possible labels?\", \"What is the range of values for the image data?\", \"Are the labels in order or random?\".  Answers to questions like these will help you preprocess the data and end up with better predictions."
   ]
  },
  {
   "cell_type": "code",
   "execution_count": 2,
   "metadata": {},
   "outputs": [
    {
     "name": "stdout",
     "output_type": "stream",
     "text": [
      "\n",
      "Stats of batch 5:\n",
      "Samples: 10000\n",
      "Label Counts: {0: 1014, 1: 1014, 2: 952, 3: 1016, 4: 997, 5: 1025, 6: 980, 7: 977, 8: 1003, 9: 1022}\n",
      "First 20 Labels: [1, 8, 5, 1, 5, 7, 4, 3, 8, 2, 7, 2, 0, 1, 5, 9, 6, 2, 0, 8]\n",
      "\n",
      "Example of Image 1:\n",
      "Image - Min Value: 1 Max Value: 244\n",
      "Image - Shape: (32, 32, 3)\n",
      "Label - Label Id: 8 Name: ship\n"
     ]
    },
    {
     "data": {
      "image/png": "[encoded data removed]",
      "text/plain": [
       "<matplotlib.figure.Figure at 0x2aec342dbc50>"
      ]
     },
     "metadata": {
      "image/png": {
       "height": 250,
       "width": 253
      }
     },
     "output_type": "display_data"
    }
   ],
   "source": [
    "%matplotlib inline\n",
    "%config InlineBackend.figure_format = 'retina'\n",
    "\n",
    "import helper\n",
    "import numpy as np\n",
    "\n",
    "# Explore the dataset\n",
    "batch_id = 5\n",
    "sample_id = 1\n",
    "helper.display_stats(cifar10_dataset_folder_path, batch_id, sample_id)"
   ]
  },
  {
   "cell_type": "markdown",
   "metadata": {},
   "source": [
    "## Implement Preprocess Functions\n",
    "### Normalize\n",
    "In the cell below, implement the `normalize` function to take in image data, `x`, and return it as a normalized Numpy array. The values should be in the range of 0 to 1, inclusive.  The return object should be the same shape as `x`."
   ]
  },
  {
   "cell_type": "code",
   "execution_count": 3,
   "metadata": {},
   "outputs": [
    {
     "name": "stdout",
     "output_type": "stream",
     "text": [
      "Tests Passed\n"
     ]
    }
   ],
   "source": [
    "def normalize(x):\n",
    "    \"\"\"\n",
    "    Normalize a list of sample image data in the range of 0 to 1\n",
    "    : x: List of image data.  The image shape is (32, 32, 3)\n",
    "    : return: Numpy array of normalize data\n",
    "    \"\"\"\n",
    "    # TODO: Implement Function    \n",
    "    normalized_data = []\n",
    "    for image in x:\n",
    "        normalized_data.append(np.divide(255 - image, 255.0))\n",
    "    \n",
    "    return np.array(normalized_data)\n",
    "\n",
    "\"\"\"\n",
    "DON'T MODIFY ANYTHING IN THIS CELL THAT IS BELOW THIS LINE\n",
    "\"\"\"\n",
    "tests.test_normalize(normalize)"
   ]
  },
  {
   "cell_type": "markdown",
   "metadata": {},
   "source": [
    "### One-hot encode\n",
    "Just like the previous code cell, you'll be implementing a function for preprocessing.  This time, you'll implement the `one_hot_encode` function. The input, `x`, are a list of labels.  Implement the function to return the list of labels as One-Hot encoded Numpy array.  The possible values for labels are 0 to 9. The one-hot encoding function should return the same encoding for each value between each call to `one_hot_encode`.  Make sure to save the map of encodings outside the function.\n",
    "\n",
    "**Hint:**\n",
    "\n",
    "Look into LabelBinarizer in the preprocessing module of sklearn."
   ]
  },
  {
   "cell_type": "code",
   "execution_count": 4,
   "metadata": {},
   "outputs": [
    {
     "name": "stdout",
     "output_type": "stream",
     "text": [
      "Tests Passed\n"
     ]
    }
   ],
   "source": [
    "from sklearn import preprocessing\n",
    "\n",
    "lb = preprocessing.LabelBinarizer()\n",
    "lb.fit([0,1,2,3,4,5,6,7,8,9])\n",
    "\n",
    "def one_hot_encode(x):\n",
    "    \"\"\"\n",
    "    One hot encode a list of sample labels. Return a one-hot encoded vector for each label.\n",
    "    : x: List of sample Labels\n",
    "    : return: Numpy array of one-hot encoded labels\n",
    "    \"\"\"\n",
    "    # TODO: Implement Function\n",
    "    x_new = lb.transform(x)\n",
    "    return x_new\n",
    "\n",
    "\n",
    "\"\"\"\n",
    "DON'T MODIFY ANYTHING IN THIS CELL THAT IS BELOW THIS LINE\n",
    "\"\"\"\n",
    "tests.test_one_hot_encode(one_hot_encode)"
   ]
  },
  {
   "cell_type": "markdown",
   "metadata": {},
   "source": [
    "### Randomize Data\n",
    "As you saw from exploring the data above, the order of the samples are randomized.  It doesn't hurt to randomize it again, but you don't need to for this dataset."
   ]
  },
  {
   "cell_type": "markdown",
   "metadata": {},
   "source": [
    "## Preprocess all the data and save it\n",
    "Running the code cell below will preprocess all the CIFAR-10 data and save it to file. The code below also uses 10% of the training data for validation."
   ]
  },
  {
   "cell_type": "code",
   "execution_count": 5,
   "metadata": {},
   "outputs": [],
   "source": [
    "\"\"\"\n",
    "DON'T MODIFY ANYTHING IN THIS CELL\n",
    "\"\"\"\n",
    "# Preprocess Training, Validation, and Testing Data\n",
    "helper.preprocess_and_save_data(cifar10_dataset_folder_path, normalize, one_hot_encode)"
   ]
  },
  {
   "cell_type": "markdown",
   "metadata": {},
   "source": [
    "# Check Point\n",
    "This is your first checkpoint.  If you ever decide to come back to this notebook or have to restart the notebook, you can start from here.  The preprocessed data has been saved to disk."
   ]
  },
  {
   "cell_type": "code",
   "execution_count": 6,
   "metadata": {
    "collapsed": true
   },
   "outputs": [],
   "source": [
    "\"\"\"\n",
    "DON'T MODIFY ANYTHING IN THIS CELL\n",
    "\"\"\"\n",
    "import pickle\n",
    "import problem_unittests as tests\n",
    "import helper\n",
    "\n",
    "# Load the Preprocessed Validation data\n",
    "valid_features, valid_labels = pickle.load(open('preprocess_validation.p', mode='rb'))"
   ]
  },
  {
   "cell_type": "markdown",
   "metadata": {},
   "source": [
    "## Build the network\n",
    "For the neural network, you'll build each layer into a function.  Most of the code you've seen has been outside of functions. To test your code more thoroughly, we require that you put each layer in a function.  This allows us to give you better feedback and test for simple mistakes using our unittests before you submit your project.\n",
    "\n",
    ">**Note:** If you're finding it hard to dedicate enough time for this course each week, we've provided a small shortcut to this part of the project. In the next couple of problems, you'll have the option to use classes from the [TensorFlow Layers](https://www.tensorflow.org/api_docs/python/tf/layers) or [TensorFlow Layers (contrib)](https://www.tensorflow.org/api_guides/python/contrib.layers) packages to build each layer, except the layers you build in the \"Convolutional and Max Pooling Layer\" section.  TF Layers is similar to Keras's and TFLearn's abstraction to layers, so it's easy to pickup.\n",
    "\n",
    ">However, if you would like to get the most out of this course, try to solve all the problems _without_ using anything from the TF Layers packages. You **can** still use classes from other packages that happen to have the same name as ones you find in TF Layers! For example, instead of using the TF Layers version of the `conv2d` class, [tf.layers.conv2d](https://www.tensorflow.org/api_docs/python/tf/layers/conv2d), you would want to use the TF Neural Network version of `conv2d`, [tf.nn.conv2d](https://www.tensorflow.org/api_docs/python/tf/nn/conv2d). \n",
    "\n",
    "Let's begin!\n",
    "\n",
    "### Input\n",
    "The neural network needs to read the image data, one-hot encoded labels, and dropout keep probability. Implement the following functions\n",
    "* Implement `neural_net_image_input`\n",
    " * Return a [TF Placeholder](https://www.tensorflow.org/api_docs/python/tf/placeholder)\n",
    " * Set the shape using `image_shape` with batch size set to `None`.\n",
    " * Name the TensorFlow placeholder \"x\" using the TensorFlow `name` parameter in the [TF Placeholder](https://www.tensorflow.org/api_docs/python/tf/placeholder).\n",
    "* Implement `neural_net_label_input`\n",
    " * Return a [TF Placeholder](https://www.tensorflow.org/api_docs/python/tf/placeholder)\n",
    " * Set the shape using `n_classes` with batch size set to `None`.\n",
    " * Name the TensorFlow placeholder \"y\" using the TensorFlow `name` parameter in the [TF Placeholder](https://www.tensorflow.org/api_docs/python/tf/placeholder).\n",
    "* Implement `neural_net_keep_prob_input`\n",
    " * Return a [TF Placeholder](https://www.tensorflow.org/api_docs/python/tf/placeholder) for dropout keep probability.\n",
    " * Name the TensorFlow placeholder \"keep_prob\" using the TensorFlow `name` parameter in the [TF Placeholder](https://www.tensorflow.org/api_docs/python/tf/placeholder).\n",
    "\n",
    "These names will be used at the end of the project to load your saved model.\n",
    "\n",
    "Note: `None` for shapes in TensorFlow allow for a dynamic size."
   ]
  },
  {
   "cell_type": "code",
   "execution_count": 7,
   "metadata": {},
   "outputs": [
    {
     "name": "stdout",
     "output_type": "stream",
     "text": [
      "Image Input Tests Passed.\n",
      "Label Input Tests Passed.\n",
      "Keep Prob Tests Passed.\n"
     ]
    }
   ],
   "source": [
    "import tensorflow as tf\n",
    "\n",
    "def neural_net_image_input(image_shape):\n",
    "    \"\"\"\n",
    "    Return a Tensor for a batch of image input\n",
    "    : image_shape: Shape of the images\n",
    "    : return: Tensor for image input.\n",
    "    \"\"\"\n",
    "    total_shape = tuple([None])+image_shape\n",
    "    # TODO: Implement Function\n",
    "    return tf.placeholder(tf.float32, shape=total_shape, name='x')\n",
    "\n",
    "\n",
    "def neural_net_label_input(n_classes):\n",
    "    \"\"\"\n",
    "    Return a Tensor for a batch of label input\n",
    "    : n_classes: Number of classes\n",
    "    : return: Tensor for label input.\n",
    "    \"\"\"\n",
    "    # TODO: Implement Function\n",
    "    total_shape = (None,n_classes)\n",
    "    return tf.placeholder(tf.float32, shape=total_shape, name='y')\n",
    "\n",
    "\n",
    "def neural_net_keep_prob_input():\n",
    "    \"\"\"\n",
    "    Return a Tensor for keep probability\n",
    "    : return: Tensor for keep probability.\n",
    "    \"\"\"\n",
    "    # TODO: Implement Function\n",
    "    return tf.placeholder(tf.float32, name='keep_prob')\n",
    "\n",
    "\n",
    "\"\"\"\n",
    "DON'T MODIFY ANYTHING IN THIS CELL THAT IS BELOW THIS LINE\n",
    "\"\"\"\n",
    "tf.reset_default_graph()\n",
    "tests.test_nn_image_inputs(neural_net_image_input)\n",
    "tests.test_nn_label_inputs(neural_net_label_input)\n",
    "tests.test_nn_keep_prob_inputs(neural_net_keep_prob_input)"
   ]
  },
  {
   "cell_type": "markdown",
   "metadata": {},
   "source": [
    "### Convolution and Max Pooling Layer\n",
    "Convolution layers have a lot of success with images. For this code cell, you should implement the function `conv2d_maxpool` to apply convolution then max pooling:\n",
    "* Create the weight and bias using `conv_ksize`, `conv_num_outputs` and the shape of `x_tensor`.\n",
    "* Apply a convolution to `x_tensor` using weight and `conv_strides`.\n",
    " * We recommend you use same padding, but you're welcome to use any padding.\n",
    "* Add bias\n",
    "* Add a nonlinear activation to the convolution.\n",
    "* Apply Max Pooling using `pool_ksize` and `pool_strides`.\n",
    " * We recommend you use same padding, but you're welcome to use any padding.\n",
    "\n",
    "**Note:** You **can't** use [TensorFlow Layers](https://www.tensorflow.org/api_docs/python/tf/layers) or [TensorFlow Layers (contrib)](https://www.tensorflow.org/api_guides/python/contrib.layers) for **this** layer, but you can still use TensorFlow's [Neural Network](https://www.tensorflow.org/api_docs/python/tf/nn) package. You may still use the shortcut option for all the **other** layers.\n",
    "\n",
    "** Hint: **\n",
    "\n",
    "When unpacking values as an argument in Python, look into the [unpacking](https://docs.python.org/3/tutorial/controlflow.html#unpacking-argument-lists) operator. "
   ]
  },
  {
   "cell_type": "code",
   "execution_count": 8,
   "metadata": {},
   "outputs": [
    {
     "name": "stdout",
     "output_type": "stream",
     "text": [
      "Tests Passed\n"
     ]
    }
   ],
   "source": [
    "def conv2d_maxpool(x_tensor, conv_num_outputs, conv_ksize, conv_strides, pool_ksize, pool_strides):\n",
    "    \"\"\"\n",
    "    Apply convolution then max pooling to x_tensor\n",
    "    :param x_tensor: TensorFlow Tensor\n",
    "    :param conv_num_outputs: Number of outputs for the convolutional layer\n",
    "    :param conv_ksize: kernal size 2-D Tuple for the convolutional layer\n",
    "    :param conv_strides: Stride 2-D Tuple for convolution\n",
    "    :param pool_ksize: kernal size 2-D Tuple for pool\n",
    "    :param pool_strides: Stride 2-D Tuple for pool\n",
    "    : return: A tensor that represents convolution and max pooling of x_tensor\n",
    "    \"\"\"\n",
    "    # TODO: Implement Function\n",
    "    #weight shape=filter size height x filter size width x color channels x k output\n",
    "    weights = tf.Variable(tf.truncated_normal([conv_ksize[0],conv_ksize[1],x_tensor.get_shape().as_list()[3],conv_num_outputs],mean=0.0,stddev=0.1))\n",
    "    biases = tf.Variable(tf.zeros([conv_num_outputs]))\n",
    "    \n",
    "    #stride dimension= batch x input_height x input_width x input_channels\n",
    "    conv_layer = tf.nn.conv2d(x_tensor, weights, [1, conv_strides[0], conv_strides[1],1],padding='SAME')\n",
    "    \n",
    "    #add bias\n",
    "    conv_layer = tf.nn.bias_add(conv_layer, biases)\n",
    "    \n",
    "    #apply activation function\n",
    "    conv_layer = tf.nn.relu(conv_layer)\n",
    "    \n",
    "    max_pool = tf.nn.max_pool(conv_layer, ksize=[1, pool_ksize[0], pool_ksize[1], 1], strides=[1, pool_strides[0], pool_strides[1], 1], padding='SAME')\n",
    "    \n",
    "    return max_pool\n",
    "\n",
    "\n",
    "\"\"\"\n",
    "DON'T MODIFY ANYTHING IN THIS CELL THAT IS BELOW THIS LINE\n",
    "\"\"\"\n",
    "tests.test_con_pool(conv2d_maxpool)"
   ]
  },
  {
   "cell_type": "markdown",
   "metadata": {},
   "source": [
    "### Flatten Layer\n",
    "Implement the `flatten` function to change the dimension of `x_tensor` from a 4-D tensor to a 2-D tensor.  The output should be the shape (*Batch Size*, *Flattened Image Size*). Shortcut option: you can use classes from the [TensorFlow Layers](https://www.tensorflow.org/api_docs/python/tf/layers) or [TensorFlow Layers (contrib)](https://www.tensorflow.org/api_guides/python/contrib.layers) packages for this layer. For more of a challenge, only use other TensorFlow packages."
   ]
  },
  {
   "cell_type": "code",
   "execution_count": 9,
   "metadata": {},
   "outputs": [
    {
     "name": "stdout",
     "output_type": "stream",
     "text": [
      "Tests Passed\n"
     ]
    }
   ],
   "source": [
    "def flatten(x_tensor):\n",
    "    \"\"\"\n",
    "    Flatten x_tensor to (Batch Size, Flattened Image Size)\n",
    "    : x_tensor: A tensor of size (Batch Size, ...), where ... are the image dimensions.\n",
    "    : return: A tensor of size (Batch Size, Flattened Image Size).\n",
    "    \"\"\"\n",
    "    # TODO: Implement Function\n",
    "    shape = x_tensor.get_shape().as_list()\n",
    "    return tf.reshape(x_tensor, [-1,shape[1]*shape[2]*shape[3]])\n",
    "\n",
    "\n",
    "\"\"\"\n",
    "DON'T MODIFY ANYTHING IN THIS CELL THAT IS BELOW THIS LINE\n",
    "\"\"\"\n",
    "tests.test_flatten(flatten)"
   ]
  },
  {
   "cell_type": "markdown",
   "metadata": {},
   "source": [
    "### Fully-Connected Layer\n",
    "Implement the `fully_conn` function to apply a fully connected layer to `x_tensor` with the shape (*Batch Size*, *num_outputs*). Shortcut option: you can use classes from the [TensorFlow Layers](https://www.tensorflow.org/api_docs/python/tf/layers) or [TensorFlow Layers (contrib)](https://www.tensorflow.org/api_guides/python/contrib.layers) packages for this layer. For more of a challenge, only use other TensorFlow packages."
   ]
  },
  {
   "cell_type": "code",
   "execution_count": 10,
   "metadata": {},
   "outputs": [
    {
     "name": "stdout",
     "output_type": "stream",
     "text": [
      "Tests Passed\n"
     ]
    }
   ],
   "source": [
    "def fully_conn(x_tensor, num_outputs):\n",
    "    \"\"\"\n",
    "    Apply a fully connected layer to x_tensor using weight and bias\n",
    "    : x_tensor: A 2-D tensor where the first dimension is batch size.\n",
    "    : num_outputs: The number of output that the new tensor should be.\n",
    "    : return: A 2-D tensor where the second dimension is num_outputs.\n",
    "    \"\"\"\n",
    "    # TODO: Implement Function\n",
    "    shape = x_tensor.get_shape().as_list()\n",
    "    \n",
    "    weights = tf.Variable(tf.truncated_normal([shape[-1],num_outputs],mean=0.0,stddev=0.1))\n",
    "    biases = tf.Variable(tf.zeros([num_outputs]))\n",
    "    fc_tensor = tf.add(tf.matmul(x_tensor, weights), biases)\n",
    "    fc_tensor = tf.nn.relu(fc_tensor)\n",
    "    return fc_tensor\n",
    "    \n",
    "\"\"\"\n",
    "DON'T MODIFY ANYTHING IN THIS CELL THAT IS BELOW THIS LINE\n",
    "\"\"\"\n",
    "tests.test_fully_conn(fully_conn)"
   ]
  },
  {
   "cell_type": "markdown",
   "metadata": {},
   "source": [
    "### Output Layer\n",
    "Implement the `output` function to apply a fully connected layer to `x_tensor` with the shape (*Batch Size*, *num_outputs*). Shortcut option: you can use classes from the [TensorFlow Layers](https://www.tensorflow.org/api_docs/python/tf/layers) or [TensorFlow Layers (contrib)](https://www.tensorflow.org/api_guides/python/contrib.layers) packages for this layer. For more of a challenge, only use other TensorFlow packages.\n",
    "\n",
    "**Note:** Activation, softmax, or cross entropy should **not** be applied to this."
   ]
  },
  {
   "cell_type": "code",
   "execution_count": 11,
   "metadata": {},
   "outputs": [
    {
     "name": "stdout",
     "output_type": "stream",
     "text": [
      "Tests Passed\n"
     ]
    }
   ],
   "source": [
    "def output(x_tensor, num_outputs):\n",
    "    \"\"\"\n",
    "    Apply a output layer to x_tensor using weight and bias\n",
    "    : x_tensor: A 2-D tensor where the first dimension is batch size.\n",
    "    : num_outputs: The number of output that the new tensor should be.\n",
    "    : return: A 2-D tensor where the second dimension is num_outputs.\n",
    "    \"\"\"\n",
    "    # TODO: Implement Function\n",
    "    shape = x_tensor.get_shape().as_list()\n",
    "    \n",
    "    weights = tf.Variable(tf.truncated_normal([shape[-1],num_outputs],mean=0.0,stddev=0.1))\n",
    "    biases = tf.Variable(tf.zeros([num_outputs]))\n",
    "    return tf.add(tf.matmul(x_tensor, weights), biases)\n",
    "\n",
    "\"\"\"\n",
    "DON'T MODIFY ANYTHING IN THIS CELL THAT IS BELOW THIS LINE\n",
    "\"\"\"\n",
    "tests.test_output(output)"
   ]
  },
  {
   "cell_type": "markdown",
   "metadata": {},
   "source": [
    "### Create Convolutional Model\n",
    "Implement the function `conv_net` to create a convolutional neural network model. The function takes in a batch of images, `x`, and outputs logits.  Use the layers you created above to create this model:\n",
    "\n",
    "* Apply 1, 2, or 3 Convolution and Max Pool layers\n",
    "* Apply a Flatten Layer\n",
    "* Apply 1, 2, or 3 Fully Connected Layers\n",
    "* Apply an Output Layer\n",
    "* Return the output\n",
    "* Apply [TensorFlow's Dropout](https://www.tensorflow.org/api_docs/python/tf/nn/dropout) to one or more layers in the model using `keep_prob`. "
   ]
  },
  {
   "cell_type": "code",
   "execution_count": 12,
   "metadata": {},
   "outputs": [
    {
     "name": "stdout",
     "output_type": "stream",
     "text": [
      "Neural Network Built!\n"
     ]
    }
   ],
   "source": [
    "def conv_net(x, keep_prob):\n",
    "    \"\"\"\n",
    "    Create a convolutional neural network model\n",
    "    : x: Placeholder tensor that holds image data.\n",
    "    : keep_prob: Placeholder tensor that hold dropout keep probability.\n",
    "    : return: Tensor that represents logits\n",
    "    \"\"\"\n",
    "    # TODO: Apply 1, 2, or 3 Convolution and Max Pool layers\n",
    "    #    Play around with different number of outputs, kernel size and stride\n",
    "    # Function Definition from Above:\n",
    "    #    conv2d_maxpool(x_tensor, conv_num_outputs, conv_ksize, conv_strides, pool_ksize, pool_strides)\n",
    "    x_tensor = conv2d_maxpool(x, 16,[3,3],[1,1],[2,2],[2,2])\n",
    "    x_tensor = conv2d_maxpool(x_tensor, 32, [3,3],[1,1],[2,2],[2,2])\n",
    "    \n",
    "    # TODO: Apply a Flatten Layer\n",
    "    # Function Definition from Above:\n",
    "    #   flatten(x_tensor)\n",
    "    x_tensor = flatten(x_tensor)\n",
    "\n",
    "    # TODO: Apply 1, 2, or 3 Fully Connected Layers\n",
    "    #    Play around with different number of outputs\n",
    "    # Function Definition from Above:\n",
    "    #   fully_conn(x_tensor, num_outputs)\n",
    "    x_tensor = fully_conn(x_tensor, 512)\n",
    "    x_tensor = fully_conn(x_tensor, 256)\n",
    "    x_tensor = fully_conn(x_tensor, 128)\n",
    "    x_tensor = tf.nn.dropout(x_tensor, keep_prob)\n",
    "\n",
    "    \n",
    "    # TODO: Apply an Output Layer\n",
    "    #    Set this to the number of classes\n",
    "    # Function Definition from Above:\n",
    "    #   output(x_tensor, num_outputs)\n",
    "    \n",
    "    \n",
    "    \n",
    "    # TODO: return output\n",
    "    return output(x_tensor, 10)\n",
    "\n",
    "\n",
    "\"\"\"\n",
    "DON'T MODIFY ANYTHING IN THIS CELL THAT IS BELOW THIS LINE\n",
    "\"\"\"\n",
    "\n",
    "##############################\n",
    "## Build the Neural Network ##\n",
    "##############################\n",
    "\n",
    "# Remove previous weights, bias, inputs, etc..\n",
    "tf.reset_default_graph()\n",
    "\n",
    "# Inputs\n",
    "x = neural_net_image_input((32, 32, 3))\n",
    "y = neural_net_label_input(10)\n",
    "keep_prob = neural_net_keep_prob_input()\n",
    "\n",
    "# Model\n",
    "logits = conv_net(x, keep_prob)\n",
    "\n",
    "# Name logits Tensor, so that is can be loaded from disk after training\n",
    "logits = tf.identity(logits, name='logits')\n",
    "\n",
    "# Loss and Optimizer\n",
    "cost = tf.reduce_mean(tf.nn.softmax_cross_entropy_with_logits(logits=logits, labels=y))\n",
    "optimizer = tf.train.AdamOptimizer().minimize(cost)\n",
    "\n",
    "# Accuracy\n",
    "correct_pred = tf.equal(tf.argmax(logits, 1), tf.argmax(y, 1))\n",
    "accuracy = tf.reduce_mean(tf.cast(correct_pred, tf.float32), name='accuracy')\n",
    "\n",
    "tests.test_conv_net(conv_net)"
   ]
  },
  {
   "cell_type": "markdown",
   "metadata": {},
   "source": [
    "## Train the Neural Network\n",
    "### Single Optimization\n",
    "Implement the function `train_neural_network` to do a single optimization.  The optimization should use `optimizer` to optimize in `session` with a `feed_dict` of the following:\n",
    "* `x` for image input\n",
    "* `y` for labels\n",
    "* `keep_prob` for keep probability for dropout\n",
    "\n",
    "This function will be called for each batch, so `tf.global_variables_initializer()` has already been called.\n",
    "\n",
    "Note: Nothing needs to be returned. This function is only optimizing the neural network."
   ]
  },
  {
   "cell_type": "code",
   "execution_count": 13,
   "metadata": {},
   "outputs": [
    {
     "name": "stdout",
     "output_type": "stream",
     "text": [
      "Tests Passed\n"
     ]
    }
   ],
   "source": [
    "def train_neural_network(session, optimizer, keep_probability, feature_batch, label_batch):\n",
    "    \"\"\"\n",
    "    Optimize the session on a batch of images and labels\n",
    "    : session: Current TensorFlow session\n",
    "    : optimizer: TensorFlow optimizer function\n",
    "    : keep_probability: keep probability\n",
    "    : feature_batch: Batch of Numpy image data\n",
    "    : label_batch: Batch of Numpy label data\n",
    "    \"\"\"\n",
    "    # TODO: Implement Function\n",
    "    \n",
    "    train_feed_dict = {\n",
    "        x: feature_batch,\n",
    "        y: label_batch,\n",
    "        keep_prob: keep_probability\n",
    "    }\n",
    "    \n",
    "    session.run(optimizer, feed_dict=train_feed_dict)\n",
    "\n",
    "\n",
    "\"\"\"\n",
    "DON'T MODIFY ANYTHING IN THIS CELL THAT IS BELOW THIS LINE\n",
    "\"\"\"\n",
    "tests.test_train_nn(train_neural_network)"
   ]
  },
  {
   "cell_type": "markdown",
   "metadata": {},
   "source": [
    "### Show Stats\n",
    "Implement the function `print_stats` to print loss and validation accuracy.  Use the global variables `valid_features` and `valid_labels` to calculate validation accuracy.  Use a keep probability of `1.0` to calculate the loss and validation accuracy."
   ]
  },
  {
   "cell_type": "code",
   "execution_count": 14,
   "metadata": {},
   "outputs": [],
   "source": [
    "def print_stats(session, feature_batch, label_batch, cost, accuracy):\n",
    "    \"\"\"\n",
    "    Print information about loss and validation accuracy\n",
    "    : session: Current TensorFlow session\n",
    "    : feature_batch: Batch of Numpy image data\n",
    "    : label_batch: Batch of Numpy label data\n",
    "    : cost: TensorFlow cost function\n",
    "    : accuracy: TensorFlow accuracy function\n",
    "    \"\"\"\n",
    "    # TODO: Implement Function\n",
    "    feed_dict = {\n",
    "        x: valid_features,\n",
    "        y: valid_labels,\n",
    "        keep_prob: 1.0\n",
    "    }\n",
    "    \n",
    "    validation_accuracy = sess.run(accuracy, feed_dict)\n",
    "    loss = sess.run(cost, feed_dict)\n",
    "    print(\"Loss: {}, Validation accuracy: {}\".format(loss, validation_accuracy))"
   ]
  },
  {
   "cell_type": "markdown",
   "metadata": {},
   "source": [
    "### Hyperparameters\n",
    "Tune the following parameters:\n",
    "* Set `epochs` to the number of iterations until the network stops learning or start overfitting\n",
    "* Set `batch_size` to the highest number that your machine has memory for.  Most people set them to common sizes of memory:\n",
    " * 64\n",
    " * 128\n",
    " * 256\n",
    " * ...\n",
    "* Set `keep_probability` to the probability of keeping a node using dropout"
   ]
  },
  {
   "cell_type": "code",
   "execution_count": 15,
   "metadata": {
    "collapsed": true
   },
   "outputs": [],
   "source": [
    "# TODO: Tune Parameters\n",
    "epochs = 30\n",
    "batch_size = 256\n",
    "keep_probability = 0.75"
   ]
  },
  {
   "cell_type": "markdown",
   "metadata": {},
   "source": [
    "### Train on a Single CIFAR-10 Batch\n",
    "Instead of training the neural network on all the CIFAR-10 batches of data, let's use a single batch. This should save time while you iterate on the model to get a better accuracy.  Once the final validation accuracy is 50% or greater, run the model on all the data in the next section."
   ]
  },
  {
   "cell_type": "code",
   "execution_count": 16,
   "metadata": {
    "scrolled": true
   },
   "outputs": [
    {
     "name": "stdout",
     "output_type": "stream",
     "text": [
      "Checking the Training on a Single Batch...\n",
      "Epoch  1, CIFAR-10 Batch 1:  Loss: 1.8558995723724365, Validation accuracy: 0.334199994802475\n",
      "Epoch  2, CIFAR-10 Batch 1:  Loss: 1.5896275043487549, Validation accuracy: 0.42640000581741333\n",
      "Epoch  3, CIFAR-10 Batch 1:  Loss: 1.4696394205093384, Validation accuracy: 0.46779999136924744\n",
      "Epoch  4, CIFAR-10 Batch 1:  Loss: 1.4004935026168823, Validation accuracy: 0.5012000203132629\n",
      "Epoch  5, CIFAR-10 Batch 1:  Loss: 1.3902997970581055, Validation accuracy: 0.5016000270843506\n",
      "Epoch  6, CIFAR-10 Batch 1:  Loss: 1.3123421669006348, Validation accuracy: 0.5315999984741211\n",
      "Epoch  7, CIFAR-10 Batch 1:  Loss: 1.3051249980926514, Validation accuracy: 0.5429999828338623\n",
      "Epoch  8, CIFAR-10 Batch 1:  Loss: 1.297678828239441, Validation accuracy: 0.5526000261306763\n",
      "Epoch  9, CIFAR-10 Batch 1:  Loss: 1.2808144092559814, Validation accuracy: 0.5590000152587891\n",
      "Epoch 10, CIFAR-10 Batch 1:  Loss: 1.3323506116867065, Validation accuracy: 0.5515999794006348\n",
      "Epoch 11, CIFAR-10 Batch 1:  Loss: 1.3022913932800293, Validation accuracy: 0.5595999956130981\n",
      "Epoch 12, CIFAR-10 Batch 1:  Loss: 1.3662607669830322, Validation accuracy: 0.5558000206947327\n",
      "Epoch 13, CIFAR-10 Batch 1:  Loss: 1.3824946880340576, Validation accuracy: 0.5443999767303467\n",
      "Epoch 14, CIFAR-10 Batch 1:  Loss: 1.4363946914672852, Validation accuracy: 0.5565999746322632\n",
      "Epoch 15, CIFAR-10 Batch 1:  Loss: 1.5609570741653442, Validation accuracy: 0.5482000112533569\n",
      "Epoch 16, CIFAR-10 Batch 1:  Loss: 1.882646083831787, Validation accuracy: 0.4885999858379364\n",
      "Epoch 17, CIFAR-10 Batch 1:  Loss: 1.580480694770813, Validation accuracy: 0.5586000084877014\n",
      "Epoch 18, CIFAR-10 Batch 1:  Loss: 1.7184709310531616, Validation accuracy: 0.5514000058174133\n",
      "Epoch 19, CIFAR-10 Batch 1:  Loss: 1.8571152687072754, Validation accuracy: 0.5320000052452087\n",
      "Epoch 20, CIFAR-10 Batch 1:  Loss: 1.8043999671936035, Validation accuracy: 0.551800012588501\n",
      "Epoch 21, CIFAR-10 Batch 1:  Loss: 1.7777490615844727, Validation accuracy: 0.5350000262260437\n",
      "Epoch 22, CIFAR-10 Batch 1:  Loss: 1.9051287174224854, Validation accuracy: 0.5335999727249146\n",
      "Epoch 23, CIFAR-10 Batch 1:  Loss: 1.8693697452545166, Validation accuracy: 0.5591999888420105\n",
      "Epoch 24, CIFAR-10 Batch 1:  Loss: 2.064695358276367, Validation accuracy: 0.5609999895095825\n",
      "Epoch 25, CIFAR-10 Batch 1:  Loss: 2.1250879764556885, Validation accuracy: 0.569599986076355\n",
      "Epoch 26, CIFAR-10 Batch 1:  Loss: 2.1243956089019775, Validation accuracy: 0.5680000185966492\n",
      "Epoch 27, CIFAR-10 Batch 1:  Loss: 2.2158608436584473, Validation accuracy: 0.5446000099182129\n",
      "Epoch 28, CIFAR-10 Batch 1:  Loss: 2.161442995071411, Validation accuracy: 0.5311999917030334\n",
      "Epoch 29, CIFAR-10 Batch 1:  Loss: 2.2194972038269043, Validation accuracy: 0.5519999861717224\n",
      "Epoch 30, CIFAR-10 Batch 1:  Loss: 2.195849657058716, Validation accuracy: 0.5735999941825867\n"
     ]
    }
   ],
   "source": [
    "\"\"\"\n",
    "DON'T MODIFY ANYTHING IN THIS CELL\n",
    "\"\"\"\n",
    "print('Checking the Training on a Single Batch...')\n",
    "with tf.Session() as sess:\n",
    "    # Initializing the variables\n",
    "    sess.run(tf.global_variables_initializer())\n",
    "    \n",
    "    # Training cycle\n",
    "    for epoch in range(epochs):\n",
    "        batch_i = 1\n",
    "        for batch_features, batch_labels in helper.load_preprocess_training_batch(batch_i, batch_size):\n",
    "            train_neural_network(sess, optimizer, keep_probability, batch_features, batch_labels)\n",
    "        print('Epoch {:>2}, CIFAR-10 Batch {}:  '.format(epoch + 1, batch_i), end='')\n",
    "        print_stats(sess, batch_features, batch_labels, cost, accuracy)"
   ]
  },
  {
   "cell_type": "markdown",
   "metadata": {},
   "source": [
    "### Fully Train the Model\n",
    "Now that you got a good accuracy with a single CIFAR-10 batch, try it with all five batches."
   ]
  },
  {
   "cell_type": "code",
   "execution_count": 17,
   "metadata": {},
   "outputs": [
    {
     "name": "stdout",
     "output_type": "stream",
     "text": [
      "Training...\n",
      "Epoch  1, CIFAR-10 Batch 1:  Loss: 1.757735013961792, Validation accuracy: 0.3547999858856201\n",
      "Epoch  1, CIFAR-10 Batch 2:  Loss: 1.5353423357009888, Validation accuracy: 0.453000009059906\n",
      "Epoch  1, CIFAR-10 Batch 3:  Loss: 1.5018953084945679, Validation accuracy: 0.46239998936653137\n",
      "Epoch  1, CIFAR-10 Batch 4:  Loss: 1.3944311141967773, Validation accuracy: 0.5004000067710876\n",
      "Epoch  1, CIFAR-10 Batch 5:  Loss: 1.3375924825668335, Validation accuracy: 0.5131999850273132\n",
      "Epoch  2, CIFAR-10 Batch 1:  Loss: 1.3573462963104248, Validation accuracy: 0.5153999924659729\n",
      "Epoch  2, CIFAR-10 Batch 2:  Loss: 1.2405463457107544, Validation accuracy: 0.5529999732971191\n",
      "Epoch  2, CIFAR-10 Batch 3:  Loss: 1.2543368339538574, Validation accuracy: 0.5514000058174133\n",
      "Epoch  2, CIFAR-10 Batch 4:  Loss: 1.2266407012939453, Validation accuracy: 0.571399986743927\n",
      "Epoch  2, CIFAR-10 Batch 5:  Loss: 1.2163881063461304, Validation accuracy: 0.5703999996185303\n",
      "Epoch  3, CIFAR-10 Batch 1:  Loss: 1.163804054260254, Validation accuracy: 0.5860000252723694\n",
      "Epoch  3, CIFAR-10 Batch 2:  Loss: 1.137273907661438, Validation accuracy: 0.5978000164031982\n",
      "Epoch  3, CIFAR-10 Batch 3:  Loss: 1.1932146549224854, Validation accuracy: 0.5817999839782715\n",
      "Epoch  3, CIFAR-10 Batch 4:  Loss: 1.0942730903625488, Validation accuracy: 0.6215999722480774\n",
      "Epoch  3, CIFAR-10 Batch 5:  Loss: 1.1801756620407104, Validation accuracy: 0.5907999873161316\n",
      "Epoch  4, CIFAR-10 Batch 1:  Loss: 1.1425840854644775, Validation accuracy: 0.597000002861023\n",
      "Epoch  4, CIFAR-10 Batch 2:  Loss: 1.109941840171814, Validation accuracy: 0.6129999756813049\n",
      "Epoch  4, CIFAR-10 Batch 3:  Loss: 1.1453195810317993, Validation accuracy: 0.597000002861023\n",
      "Epoch  4, CIFAR-10 Batch 4:  Loss: 1.0502851009368896, Validation accuracy: 0.6305999755859375\n",
      "Epoch  4, CIFAR-10 Batch 5:  Loss: 1.036333441734314, Validation accuracy: 0.6344000101089478\n",
      "Epoch  5, CIFAR-10 Batch 1:  Loss: 1.1269662380218506, Validation accuracy: 0.614799976348877\n",
      "Epoch  5, CIFAR-10 Batch 2:  Loss: 1.0236586332321167, Validation accuracy: 0.640999972820282\n",
      "Epoch  5, CIFAR-10 Batch 3:  Loss: 1.168945550918579, Validation accuracy: 0.5925999879837036\n",
      "Epoch  5, CIFAR-10 Batch 4:  Loss: 1.0017071962356567, Validation accuracy: 0.6456000208854675\n",
      "Epoch  5, CIFAR-10 Batch 5:  Loss: 1.0716156959533691, Validation accuracy: 0.6266000270843506\n",
      "Epoch  6, CIFAR-10 Batch 1:  Loss: 1.0620476007461548, Validation accuracy: 0.6322000026702881\n",
      "Epoch  6, CIFAR-10 Batch 2:  Loss: 1.038313865661621, Validation accuracy: 0.6552000045776367\n",
      "Epoch  6, CIFAR-10 Batch 3:  Loss: 1.0711379051208496, Validation accuracy: 0.6236000061035156\n",
      "Epoch  6, CIFAR-10 Batch 4:  Loss: 1.0060701370239258, Validation accuracy: 0.652400016784668\n",
      "Epoch  6, CIFAR-10 Batch 5:  Loss: 1.045195460319519, Validation accuracy: 0.6467999815940857\n",
      "Epoch  7, CIFAR-10 Batch 1:  Loss: 1.0582391023635864, Validation accuracy: 0.649399995803833\n",
      "Epoch  7, CIFAR-10 Batch 2:  Loss: 1.0308663845062256, Validation accuracy: 0.6478000283241272\n",
      "Epoch  7, CIFAR-10 Batch 3:  Loss: 1.1091872453689575, Validation accuracy: 0.6237999796867371\n",
      "Epoch  7, CIFAR-10 Batch 4:  Loss: 1.0308239459991455, Validation accuracy: 0.6552000045776367\n",
      "Epoch  7, CIFAR-10 Batch 5:  Loss: 1.0282022953033447, Validation accuracy: 0.6618000268936157\n",
      "Epoch  8, CIFAR-10 Batch 1:  Loss: 1.0642870664596558, Validation accuracy: 0.6514000296592712\n",
      "Epoch  8, CIFAR-10 Batch 2:  Loss: 1.0282680988311768, Validation accuracy: 0.6534000039100647\n",
      "Epoch  8, CIFAR-10 Batch 3:  Loss: 1.2267783880233765, Validation accuracy: 0.600600004196167\n",
      "Epoch  8, CIFAR-10 Batch 4:  Loss: 1.0637106895446777, Validation accuracy: 0.6514000296592712\n",
      "Epoch  8, CIFAR-10 Batch 5:  Loss: 1.0291944742202759, Validation accuracy: 0.6674000024795532\n",
      "Epoch  9, CIFAR-10 Batch 1:  Loss: 1.1624277830123901, Validation accuracy: 0.6421999931335449\n",
      "Epoch  9, CIFAR-10 Batch 2:  Loss: 1.052496314048767, Validation accuracy: 0.6646000146865845\n",
      "Epoch  9, CIFAR-10 Batch 3:  Loss: 1.284356951713562, Validation accuracy: 0.6060000061988831\n",
      "Epoch  9, CIFAR-10 Batch 4:  Loss: 1.125594973564148, Validation accuracy: 0.6516000032424927\n",
      "Epoch  9, CIFAR-10 Batch 5:  Loss: 1.129305124282837, Validation accuracy: 0.6507999897003174\n",
      "Epoch 10, CIFAR-10 Batch 1:  Loss: 1.1266374588012695, Validation accuracy: 0.6565999984741211\n",
      "Epoch 10, CIFAR-10 Batch 2:  Loss: 1.1010609865188599, Validation accuracy: 0.6638000011444092\n",
      "Epoch 10, CIFAR-10 Batch 3:  Loss: 1.288609504699707, Validation accuracy: 0.6169999837875366\n",
      "Epoch 10, CIFAR-10 Batch 4:  Loss: 1.1982297897338867, Validation accuracy: 0.6389999985694885\n",
      "Epoch 10, CIFAR-10 Batch 5:  Loss: 1.10237717628479, Validation accuracy: 0.6705999970436096\n",
      "Epoch 11, CIFAR-10 Batch 1:  Loss: 1.082917332649231, Validation accuracy: 0.6672000288963318\n",
      "Epoch 11, CIFAR-10 Batch 2:  Loss: 1.1465898752212524, Validation accuracy: 0.6585999727249146\n",
      "Epoch 11, CIFAR-10 Batch 3:  Loss: 1.4726907014846802, Validation accuracy: 0.5979999899864197\n",
      "Epoch 11, CIFAR-10 Batch 4:  Loss: 1.2275593280792236, Validation accuracy: 0.6281999945640564\n",
      "Epoch 11, CIFAR-10 Batch 5:  Loss: 1.3476483821868896, Validation accuracy: 0.6326000094413757\n",
      "Epoch 12, CIFAR-10 Batch 1:  Loss: 1.2235889434814453, Validation accuracy: 0.6434000134468079\n",
      "Epoch 12, CIFAR-10 Batch 2:  Loss: 1.2476904392242432, Validation accuracy: 0.649399995803833\n",
      "Epoch 12, CIFAR-10 Batch 3:  Loss: 1.3401360511779785, Validation accuracy: 0.626800000667572\n",
      "Epoch 12, CIFAR-10 Batch 4:  Loss: 1.1870362758636475, Validation accuracy: 0.6452000141143799\n",
      "Epoch 12, CIFAR-10 Batch 5:  Loss: 1.3115726709365845, Validation accuracy: 0.6503999829292297\n",
      "Epoch 13, CIFAR-10 Batch 1:  Loss: 1.5040103197097778, Validation accuracy: 0.5943999886512756\n",
      "Epoch 13, CIFAR-10 Batch 2:  Loss: 1.3204145431518555, Validation accuracy: 0.6480000019073486\n",
      "Epoch 13, CIFAR-10 Batch 3:  Loss: 1.33574378490448, Validation accuracy: 0.6254000067710876\n",
      "Epoch 13, CIFAR-10 Batch 4:  Loss: 1.1874140501022339, Validation accuracy: 0.6570000052452087\n",
      "Epoch 13, CIFAR-10 Batch 5:  Loss: 1.3375582695007324, Validation accuracy: 0.6651999950408936\n",
      "Epoch 14, CIFAR-10 Batch 1:  Loss: 1.360770344734192, Validation accuracy: 0.6517999768257141\n",
      "Epoch 14, CIFAR-10 Batch 2:  Loss: 1.4189159870147705, Validation accuracy: 0.6398000121116638\n",
      "Epoch 14, CIFAR-10 Batch 3:  Loss: 1.3083513975143433, Validation accuracy: 0.6503999829292297\n",
      "Epoch 14, CIFAR-10 Batch 4:  Loss: 1.2494488954544067, Validation accuracy: 0.6601999998092651\n",
      "Epoch 14, CIFAR-10 Batch 5:  Loss: 1.3861600160598755, Validation accuracy: 0.6601999998092651\n",
      "Epoch 15, CIFAR-10 Batch 1:  Loss: 1.3548343181610107, Validation accuracy: 0.6538000106811523\n",
      "Epoch 15, CIFAR-10 Batch 2:  Loss: 1.5384482145309448, Validation accuracy: 0.6413999795913696\n",
      "Epoch 15, CIFAR-10 Batch 3:  Loss: 1.4312957525253296, Validation accuracy: 0.6538000106811523\n",
      "Epoch 15, CIFAR-10 Batch 4:  Loss: 1.4080287218093872, Validation accuracy: 0.6492000222206116\n",
      "Epoch 15, CIFAR-10 Batch 5:  Loss: 1.5126498937606812, Validation accuracy: 0.6579999923706055\n",
      "Epoch 16, CIFAR-10 Batch 1:  Loss: 1.4877197742462158, Validation accuracy: 0.6514000296592712\n",
      "Epoch 16, CIFAR-10 Batch 2:  Loss: 1.713253140449524, Validation accuracy: 0.6384000182151794\n",
      "Epoch 16, CIFAR-10 Batch 3:  Loss: 1.4937243461608887, Validation accuracy: 0.640999972820282\n",
      "Epoch 16, CIFAR-10 Batch 4:  Loss: 1.481381893157959, Validation accuracy: 0.6481999754905701\n",
      "Epoch 16, CIFAR-10 Batch 5:  Loss: 1.5507298707962036, Validation accuracy: 0.6639999747276306\n",
      "Epoch 17, CIFAR-10 Batch 1:  Loss: 1.576793909072876, Validation accuracy: 0.6470000147819519\n",
      "Epoch 17, CIFAR-10 Batch 2:  Loss: 1.615546703338623, Validation accuracy: 0.6514000296592712\n",
      "Epoch 17, CIFAR-10 Batch 3:  Loss: 1.485635757446289, Validation accuracy: 0.6528000235557556\n",
      "Epoch 17, CIFAR-10 Batch 4:  Loss: 1.5733661651611328, Validation accuracy: 0.6510000228881836\n",
      "Epoch 17, CIFAR-10 Batch 5:  Loss: 1.7367843389511108, Validation accuracy: 0.6470000147819519\n",
      "Epoch 18, CIFAR-10 Batch 1:  Loss: 1.5516079664230347, Validation accuracy: 0.6638000011444092\n",
      "Epoch 18, CIFAR-10 Batch 2:  Loss: 1.6850405931472778, Validation accuracy: 0.6474000215530396\n",
      "Epoch 18, CIFAR-10 Batch 3:  Loss: 1.6453027725219727, Validation accuracy: 0.6424000263214111\n",
      "Epoch 18, CIFAR-10 Batch 4:  Loss: 1.5728453397750854, Validation accuracy: 0.6603999733924866\n",
      "Epoch 18, CIFAR-10 Batch 5:  Loss: 1.7941340208053589, Validation accuracy: 0.6557999849319458\n",
      "Epoch 19, CIFAR-10 Batch 1:  Loss: 1.7095675468444824, Validation accuracy: 0.6543999910354614\n",
      "Epoch 19, CIFAR-10 Batch 2:  Loss: 1.7614623308181763, Validation accuracy: 0.6484000086784363\n",
      "Epoch 19, CIFAR-10 Batch 3:  Loss: 1.752129077911377, Validation accuracy: 0.6556000113487244\n",
      "Epoch 19, CIFAR-10 Batch 4:  Loss: 1.7303707599639893, Validation accuracy: 0.6492000222206116\n",
      "Epoch 19, CIFAR-10 Batch 5:  Loss: 1.9934128522872925, Validation accuracy: 0.6304000020027161\n",
      "Epoch 20, CIFAR-10 Batch 1:  Loss: 1.7398484945297241, Validation accuracy: 0.6570000052452087\n",
      "Epoch 20, CIFAR-10 Batch 2:  Loss: 1.8683429956436157, Validation accuracy: 0.6601999998092651\n",
      "Epoch 20, CIFAR-10 Batch 3:  Loss: 1.8205865621566772, Validation accuracy: 0.6531999707221985\n",
      "Epoch 20, CIFAR-10 Batch 4:  Loss: 1.7314648628234863, Validation accuracy: 0.6614000201225281\n",
      "Epoch 20, CIFAR-10 Batch 5:  Loss: 1.9108105897903442, Validation accuracy: 0.6448000073432922\n",
      "Epoch 21, CIFAR-10 Batch 1:  Loss: 1.792412519454956, Validation accuracy: 0.6502000093460083\n",
      "Epoch 21, CIFAR-10 Batch 2:  Loss: 1.8643871545791626, Validation accuracy: 0.6549999713897705\n",
      "Epoch 21, CIFAR-10 Batch 3:  Loss: 1.8099448680877686, Validation accuracy: 0.6665999889373779\n",
      "Epoch 21, CIFAR-10 Batch 4:  Loss: 1.7965766191482544, Validation accuracy: 0.6574000120162964\n",
      "Epoch 21, CIFAR-10 Batch 5:  Loss: 1.931242823600769, Validation accuracy: 0.6575999855995178\n",
      "Epoch 22, CIFAR-10 Batch 1:  Loss: 1.9400616884231567, Validation accuracy: 0.6484000086784363\n",
      "Epoch 22, CIFAR-10 Batch 2:  Loss: 1.9515711069107056, Validation accuracy: 0.6377999782562256\n",
      "Epoch 22, CIFAR-10 Batch 3:  Loss: 1.9423500299453735, Validation accuracy: 0.6654000282287598\n",
      "Epoch 22, CIFAR-10 Batch 4:  Loss: 2.08005428314209, Validation accuracy: 0.6406000256538391\n",
      "Epoch 22, CIFAR-10 Batch 5:  Loss: 1.944105863571167, Validation accuracy: 0.6480000019073486\n",
      "Epoch 23, CIFAR-10 Batch 1:  Loss: 1.8939396142959595, Validation accuracy: 0.6525999903678894\n",
      "Epoch 23, CIFAR-10 Batch 2:  Loss: 1.9605541229248047, Validation accuracy: 0.6547999978065491\n",
      "Epoch 23, CIFAR-10 Batch 3:  Loss: 1.9642808437347412, Validation accuracy: 0.6603999733924866\n",
      "Epoch 23, CIFAR-10 Batch 4:  Loss: 2.1731255054473877, Validation accuracy: 0.6492000222206116\n",
      "Epoch 23, CIFAR-10 Batch 5:  Loss: 1.944207787513733, Validation accuracy: 0.6675999760627747\n",
      "Epoch 24, CIFAR-10 Batch 1:  Loss: 1.9894276857376099, Validation accuracy: 0.66839998960495\n",
      "Epoch 24, CIFAR-10 Batch 2:  Loss: 1.9968748092651367, Validation accuracy: 0.6561999917030334\n",
      "Epoch 24, CIFAR-10 Batch 3:  Loss: 2.1901657581329346, Validation accuracy: 0.6543999910354614\n",
      "Epoch 24, CIFAR-10 Batch 4:  Loss: 2.165205478668213, Validation accuracy: 0.6561999917030334\n",
      "Epoch 24, CIFAR-10 Batch 5:  Loss: 2.182495594024658, Validation accuracy: 0.6565999984741211\n",
      "Epoch 25, CIFAR-10 Batch 1:  Loss: 2.116650104522705, Validation accuracy: 0.6531999707221985\n",
      "Epoch 25, CIFAR-10 Batch 2:  Loss: 2.1491363048553467, Validation accuracy: 0.6593999862670898\n",
      "Epoch 25, CIFAR-10 Batch 3:  Loss: 2.1030659675598145, Validation accuracy: 0.6664000153541565\n",
      "Epoch 25, CIFAR-10 Batch 4:  Loss: 2.1512415409088135, Validation accuracy: 0.6624000072479248\n",
      "Epoch 25, CIFAR-10 Batch 5:  Loss: 2.3794806003570557, Validation accuracy: 0.6610000133514404\n",
      "Epoch 26, CIFAR-10 Batch 1:  Loss: 2.1452770233154297, Validation accuracy: 0.6664000153541565\n",
      "Epoch 26, CIFAR-10 Batch 2:  Loss: 2.1530094146728516, Validation accuracy: 0.6615999937057495\n",
      "Epoch 26, CIFAR-10 Batch 3:  Loss: 2.332418203353882, Validation accuracy: 0.6452000141143799\n",
      "Epoch 26, CIFAR-10 Batch 4:  Loss: 2.419034004211426, Validation accuracy: 0.647599995136261\n",
      "Epoch 26, CIFAR-10 Batch 5:  Loss: 2.3404922485351562, Validation accuracy: 0.6600000262260437\n",
      "Epoch 27, CIFAR-10 Batch 1:  Loss: 2.1921350955963135, Validation accuracy: 0.6618000268936157\n",
      "Epoch 27, CIFAR-10 Batch 2:  Loss: 2.1556484699249268, Validation accuracy: 0.651199996471405\n",
      "Epoch 27, CIFAR-10 Batch 3:  Loss: 2.2375330924987793, Validation accuracy: 0.6611999869346619\n",
      "Epoch 27, CIFAR-10 Batch 4:  Loss: 2.2575504779815674, Validation accuracy: 0.6565999984741211\n",
      "Epoch 27, CIFAR-10 Batch 5:  Loss: 2.338632822036743, Validation accuracy: 0.6696000099182129\n",
      "Epoch 28, CIFAR-10 Batch 1:  Loss: 2.3724451065063477, Validation accuracy: 0.6498000025749207\n",
      "Epoch 28, CIFAR-10 Batch 2:  Loss: 2.2049477100372314, Validation accuracy: 0.6646000146865845\n",
      "Epoch 28, CIFAR-10 Batch 3:  Loss: 2.2718050479888916, Validation accuracy: 0.6647999882698059\n",
      "Epoch 28, CIFAR-10 Batch 4:  Loss: 2.506744623184204, Validation accuracy: 0.6412000060081482\n",
      "Epoch 28, CIFAR-10 Batch 5:  Loss: 2.4261326789855957, Validation accuracy: 0.6579999923706055\n",
      "Epoch 29, CIFAR-10 Batch 1:  Loss: 2.328914165496826, Validation accuracy: 0.6679999828338623\n",
      "Epoch 29, CIFAR-10 Batch 2:  Loss: 2.364471197128296, Validation accuracy: 0.6520000100135803\n",
      "Epoch 29, CIFAR-10 Batch 3:  Loss: 2.399601697921753, Validation accuracy: 0.652999997138977\n",
      "Epoch 29, CIFAR-10 Batch 4:  Loss: 2.243224620819092, Validation accuracy: 0.6618000268936157\n",
      "Epoch 29, CIFAR-10 Batch 5:  Loss: 2.3616738319396973, Validation accuracy: 0.6603999733924866\n",
      "Epoch 30, CIFAR-10 Batch 1:  Loss: 2.2988598346710205, Validation accuracy: 0.6718000173568726\n",
      "Epoch 30, CIFAR-10 Batch 2:  Loss: 2.445831060409546, Validation accuracy: 0.657800018787384\n",
      "Epoch 30, CIFAR-10 Batch 3:  Loss: 2.457138776779175, Validation accuracy: 0.6474000215530396\n",
      "Epoch 30, CIFAR-10 Batch 4:  Loss: 2.3199212551116943, Validation accuracy: 0.6478000283241272\n",
      "Epoch 30, CIFAR-10 Batch 5:  Loss: 2.2479357719421387, Validation accuracy: 0.6639999747276306\n"
     ]
    }
   ],
   "source": [
    "\"\"\"\n",
    "DON'T MODIFY ANYTHING IN THIS CELL\n",
    "\"\"\"\n",
    "save_model_path = './image_classification'\n",
    "\n",
    "print('Training...')\n",
    "with tf.Session() as sess:\n",
    "    # Initializing the variables\n",
    "    sess.run(tf.global_variables_initializer())\n",
    "    \n",
    "    # Training cycle\n",
    "    for epoch in range(epochs):\n",
    "        # Loop over all batches\n",
    "        n_batches = 5\n",
    "        for batch_i in range(1, n_batches + 1):\n",
    "            for batch_features, batch_labels in helper.load_preprocess_training_batch(batch_i, batch_size):\n",
    "                train_neural_network(sess, optimizer, keep_probability, batch_features, batch_labels)\n",
    "            print('Epoch {:>2}, CIFAR-10 Batch {}:  '.format(epoch + 1, batch_i), end='')\n",
    "            print_stats(sess, batch_features, batch_labels, cost, accuracy)\n",
    "            \n",
    "    # Save Model\n",
    "    saver = tf.train.Saver()\n",
    "    save_path = saver.save(sess, save_model_path)"
   ]
  },
  {
   "cell_type": "markdown",
   "metadata": {},
   "source": [
    "# Checkpoint\n",
    "The model has been saved to disk.\n",
    "## Test Model\n",
    "Test your model against the test dataset.  This will be your final accuracy. You should have an accuracy greater than 50%. If you don't, keep tweaking the model architecture and parameters."
   ]
  },
  {
   "cell_type": "code",
   "execution_count": 18,
   "metadata": {},
   "outputs": [
    {
     "name": "stdout",
     "output_type": "stream",
     "text": [
      "Testing Accuracy: 0.65498046875\n",
      "\n"
     ]
    },
    {
     "data": {
      "image/png": "[encoded data removed]",
      "text/plain": [
       "<matplotlib.figure.Figure at 0x2aec15b29c18>"
      ]
     },
     "metadata": {
      "image/png": {
       "height": 319,
       "width": 355
      }
     },
     "output_type": "display_data"
    }
   ],
   "source": [
    "\"\"\"\n",
    "DON'T MODIFY ANYTHING IN THIS CELL\n",
    "\"\"\"\n",
    "%matplotlib inline\n",
    "%config InlineBackend.figure_format = 'retina'\n",
    "\n",
    "import tensorflow as tf\n",
    "import pickle\n",
    "import helper\n",
    "import random\n",
    "\n",
    "# Set batch size if not already set\n",
    "try:\n",
    "    if batch_size:\n",
    "        pass\n",
    "except NameError:\n",
    "    batch_size = 64\n",
    "\n",
    "save_model_path = './image_classification'\n",
    "n_samples = 4\n",
    "top_n_predictions = 3\n",
    "\n",
    "def test_model():\n",
    "    \"\"\"\n",
    "    Test the saved model against the test dataset\n",
    "    \"\"\"\n",
    "\n",
    "    test_features, test_labels = pickle.load(open('preprocess_training.p', mode='rb'))\n",
    "    loaded_graph = tf.Graph()\n",
    "\n",
    "    with tf.Session(graph=loaded_graph) as sess:\n",
    "        # Load model\n",
    "        loader = tf.train.import_meta_graph(save_model_path + '.meta')\n",
    "        loader.restore(sess, save_model_path)\n",
    "\n",
    "        # Get Tensors from loaded model\n",
    "        loaded_x = loaded_graph.get_tensor_by_name('x:0')\n",
    "        loaded_y = loaded_graph.get_tensor_by_name('y:0')\n",
    "        loaded_keep_prob = loaded_graph.get_tensor_by_name('keep_prob:0')\n",
    "        loaded_logits = loaded_graph.get_tensor_by_name('logits:0')\n",
    "        loaded_acc = loaded_graph.get_tensor_by_name('accuracy:0')\n",
    "        \n",
    "        # Get accuracy in batches for memory limitations\n",
    "        test_batch_acc_total = 0\n",
    "        test_batch_count = 0\n",
    "        \n",
    "        for train_feature_batch, train_label_batch in helper.batch_features_labels(test_features, test_labels, batch_size):\n",
    "            test_batch_acc_total += sess.run(\n",
    "                loaded_acc,\n",
    "                feed_dict={loaded_x: train_feature_batch, loaded_y: train_label_batch, loaded_keep_prob: 1.0})\n",
    "            test_batch_count += 1\n",
    "\n",
    "        print('Testing Accuracy: {}\\n'.format(test_batch_acc_total/test_batch_count))\n",
    "\n",
    "        # Print Random Samples\n",
    "        random_test_features, random_test_labels = tuple(zip(*random.sample(list(zip(test_features, test_labels)), n_samples)))\n",
    "        random_test_predictions = sess.run(\n",
    "            tf.nn.top_k(tf.nn.softmax(loaded_logits), top_n_predictions),\n",
    "            feed_dict={loaded_x: random_test_features, loaded_y: random_test_labels, loaded_keep_prob: 1.0})\n",
    "        helper.display_image_predictions(random_test_features, random_test_labels, random_test_predictions)\n",
    "\n",
    "\n",
    "test_model()"
   ]
  },
  {
   "cell_type": "markdown",
   "metadata": {},
   "source": [
    "## Why 50-80% Accuracy?\n",
    "You might be wondering why you can't get an accuracy any higher. First things first, 50% isn't bad for a simple CNN.  Pure guessing would get you 10% accuracy. That's because there are many more techniques that can be applied to your model and we recemmond that once you are done with this project, you explore!\n",
    "\n",
    "## Submitting This Project\n",
    "When submitting this project, make sure to run all the cells before saving the notebook.  Save the notebook file as \"image_classification.ipynb\" and save it as a HTML file under \"File\" -> \"Download as\".  Include the \"helper.py\" and \"problem_unittests.py\" files in your submission."
   ]
  }
 ],
 "metadata": {
  "kernelspec": {
   "display_name": "Python 3",
   "language": "python",
   "name": "python3"
  },
  "language_info": {
   "codemirror_mode": {
    "name": "ipython",
    "version": 3
   },
   "file_extension": ".py",
   "mimetype": "text/x-python",
   "name": "python",
   "nbconvert_exporter": "python",
   "pygments_lexer": "ipython3",
   "version": "3.5.2"
  }
 },
 "nbformat": 4,
 "nbformat_minor": 1
}
